{
 "cells": [
  {
   "cell_type": "code",
   "execution_count": 55,
   "metadata": {},
   "outputs": [],
   "source": [
    "#%%\n",
    "# Section of the Python code where we import all dependencies on third party Python modules/libaries or our own\n",
    "# libraries (exposed C++ code to Python, i.e. darts.engines && darts.physics)\n",
    "from model_deadoil import ModelDA\n",
    "import numpy as np\n",
    "import meshio\n",
    "from darts.engines import *\n",
    "\n",
    "import concurrent.futures\n",
    "import math\n",
    "import os\n",
    "import re\n",
    "import shutil\n",
    "import time\n",
    "\n",
    "import matplotlib.pyplot as plt\n",
    "import pandas as pd\n",
    "import scipy.stats as stats"
   ]
  },
  {
   "cell_type": "code",
   "execution_count": 100,
   "metadata": {},
   "outputs": [
    {
     "name": "stdout",
     "output_type": "stream",
     "text": [
      "darts-package built on 27/03/2022 15:20:27 by SRV950$@SRV950 from d89b1a8\n",
      "\n"
     ]
    }
   ],
   "source": [
    "#%%\n",
    "#First we define the model that will be used as refference frac_aper = = 1e-3 (base case produced by Stephan)\n",
    "# \n",
    "m_true = ModelDA(frac_aper =1e-10)\n",
    "time_range = np.arange(0,5000, 1)+1\n",
    "# After constructing the model, the simulator needs to be initialized. The init() class method is called, which is\n",
    "# inherited (https://www.python-course.eu/python3_inheritance.php) from the parent class DartsModel (found in\n",
    "# darts/models/darts_model.py (NOTE: This is not the same as the__init__(self, **) method which each class (should)\n",
    "# have).\n",
    "m_true.const_perm = 10000000\n",
    "m_true.init()\n",
    "# Specify some other time-related properties (NOTE: all time parameters are in [days])\n",
    "m_true.params.max_ts = 10  # Adjust the maximum time-step as desired (this is overwriting the max_ts specified in model.py)\n",
    "m_true.run(time_range[-1])"
   ]
  },
  {
   "cell_type": "code",
   "execution_count": 101,
   "metadata": {},
   "outputs": [],
   "source": [
    "import pandas as pd\n",
    "time_data = pd.DataFrame.from_dict(m_true.physics.engine.time_data)\n",
    "writer = pd.ExcelWriter('m_true_time_data.xlsx')\n",
    "time_data.to_excel(writer, 'Sheet1')\n",
    "writer.save()\n",
    "\n"
   ]
  },
  {
   "cell_type": "code",
   "execution_count": 102,
   "metadata": {},
   "outputs": [
    {
     "data": {
      "image/png": "[encoded data removed]",
      "text/plain": [
       "<Figure size 432x288 with 1 Axes>"
      ]
     },
     "metadata": {
      "needs_background": "light"
     },
     "output_type": "display_data"
    }
   ],
   "source": [
    "from darts.tools.plot_darts import *\n",
    "prod = m_true.reservoir.wells[1]\n",
    "inj =   m_true.reservoir.wells[0]\n",
    "ax2 = plot_oil_rate_darts(prod.name, time_data)\n"
   ]
  },
  {
   "cell_type": "code",
   "execution_count": 99,
   "metadata": {},
   "outputs": [
    {
     "data": {
      "image/png": "[encoded data removed]",
      "text/plain": [
       "<Figure size 432x288 with 1 Axes>"
      ]
     },
     "metadata": {
      "needs_background": "light"
     },
     "output_type": "display_data"
    }
   ],
   "source": [
    "ax3 = plot_watercut_darts(prod.name, time_data)"
   ]
  },
  {
   "cell_type": "code",
   "execution_count": 16,
   "metadata": {},
   "outputs": [],
   "source": [
    "#create a np.array that while the value of time_data['time'] is less then time_range[j], copy the value of time_data['I1 : c 1 rate (Kmol/day)'] in a new array with the same shape as time_range\n",
    "#and then return the mean of the array\n",
    "# data colums\n",
    "columnsNameList = ['P1 : oil rate (m3/day)']\n",
    "def media_function(time_range, time_data,columnsNameList):\n",
    "    s=[]\n",
    "    media =[]\n",
    "    media_=[]\n",
    "    flag=np.zeros(len(time_data['time']))\n",
    "    for j,step in enumerate(time_range):\n",
    "        for i,tempo in enumerate(time_data['time']):\n",
    "            if step>=tempo and flag[i]==0:\n",
    "                flag[i]=1 \n",
    "                s.append(time_data[columnsNameList[0]][i])\n",
    "        media.append(np.mean(s))\n",
    "    return media"
   ]
  },
  {
   "cell_type": "code",
   "execution_count": 17,
   "metadata": {},
   "outputs": [],
   "source": [
    "##Create hard data from true model\n",
    "#obsData= -1*np.array(time_data['P1 : oil rate (m3/day)'])\n",
    "obsValues = -1*np.array(media_function(time_range, time_data, columnsNameList))\n",
    "dObs = obsValues.T.flatten()\n",
    "dTime= np.array(time_range)\n",
    "\n",
    "CeDiag =np.array(0.001*dObs[:]) #diagonal of the covariance matrix of observed data %1 of the oil rate\n",
    "NTimesteps=len(dTime)\n",
    "NWells=1\n",
    "wells = ['P1']\n",
    "wellDObs = np.repeat(wells, NTimesteps) #Configure the wells list\n"
   ]
  },
  {
   "cell_type": "code",
   "execution_count": 18,
   "metadata": {},
   "outputs": [
    {
     "data": {
      "image/png": "[encoded data removed]",
      "text/plain": [
       "<Figure size 432x288 with 1 Axes>"
      ]
     },
     "metadata": {
      "needs_background": "light"
     },
     "output_type": "display_data"
    }
   ],
   "source": [
    "#cplot the media and time_data['I1 : c 1 rate (Kmol/day)'] in the smae graph\n",
    "plt.plot(time_data['time'],-1*time_data['P1 : oil rate (m3/day)'])\n",
    "plt.plot(dObs)\n",
    "plt.show()\n",
    "\n"
   ]
  },
  {
   "cell_type": "code",
   "execution_count": 19,
   "metadata": {},
   "outputs": [],
   "source": [
    "#create a function to run ensemble simulations based on the prior ensemble\n",
    "def RunModels(destDir, MScalar):\n",
    "    for i, mMScalar in enumerate(MScalar.T):\n",
    "        # create a model object\n",
    "        m = ModelDA(frac_aper = mMScalar);\n",
    "        # initialize the model\n",
    "        m.init();\n",
    "        m.params.max_ts = 10\n",
    "        # run the model\n",
    "        start = time.time()\n",
    "        m.run(time_range[1999]);\n",
    "        # get the data\n",
    "        time_data = pd.DataFrame.from_dict(m.physics.engine.time_data)\n",
    "         # write timedata to output file\n",
    "        time_data.to_pickle(f'{destDir}\\\\data_model'+str(i)+'.pkl')  \n",
    "        end = time.time()\n",
    "        print(f'Elapsed time: {end - start} for model {str(i)}')"
   ]
  },
  {
   "cell_type": "code",
   "execution_count": 20,
   "metadata": {},
   "outputs": [],
   "source": [
    "#Read the result from the model\n",
    "def ReadModels(destDir, columnsNameList, Nd, Ne):\n",
    "    D = np.empty([Nd, Ne])\n",
    "    for i in range(Ne):\n",
    "        dataSet = pd.read_pickle(f'{destDir}\\\\data_model'+str(i)+'.pkl') \n",
    "        model_value=np.array([])\n",
    "        for name in columnsNameList:\n",
    "            model_value = -1*np.array(media_function(time_range, dataSet, columnsNameList))\n",
    "        \n",
    "        d_models = model_value.T.flatten()    \n",
    "           \n",
    "        D[:,i] = d_models \n",
    "\n",
    "    return D"
   ]
  },
  {
   "cell_type": "code",
   "execution_count": 21,
   "metadata": {},
   "outputs": [],
   "source": [
    "#functions to run ES-MDA\n",
    "# Finds the truncation number - if using SVD\n",
    "def FindTruncationNumber(Sigma, csi):\n",
    "    temp = 0\n",
    "    i = 0\n",
    "    svSum = np.sum(Sigma)\n",
    "    stopValue = svSum * csi\n",
    "    for sv in np.nditer(Sigma):\n",
    "        if (temp >= stopValue):\n",
    "            break\n",
    "        temp += sv\n",
    "        i += 1\n",
    "    return i\n",
    "\n",
    "#Series of matriz treatments to make the process less memory consuming  - \n",
    "# see  Evensen, G., The Ensemble Kalman Filter: Theoretical Formulation and Practical Implementation, Ocean Dynamics (2003)\n",
    "def CentralizeMatrix(M):\n",
    "    meanMatrix = np.mean(M, axis=0)\n",
    "    return M - meanMatrix\n",
    "\n",
    "\n",
    "def UpdateModelLocalized(M, Psi, R, DobsD):\n",
    "    DeltaM = CentralizeMatrix(M)\n",
    "\n",
    "    K = DeltaM @ Psi\n",
    "    Kloc = R * K ## Kalman gain with localization \n",
    "    return M + Kloc @ DobsD \n",
    "\n",
    "def UpdateModel(M, Psi, DobsD):\n",
    "    DeltaM = CentralizeMatrix(M)\n",
    "\n",
    "    X10 = Psi @ DobsD\n",
    "    return M + DeltaM @ X10"
   ]
  },
  {
   "cell_type": "code",
   "execution_count": 22,
   "metadata": {},
   "outputs": [],
   "source": [
    "#%%\n",
    "#Calculate objetive function\n",
    "def calcDataMismatchObjectiveFunction(dObs, D, CeInv):\n",
    "    Ne = D.shape[1]\n",
    "    Nd = D.shape[0]\n",
    "\n",
    "    Od = np.empty(Ne)\n",
    "    for i in range(Ne):\n",
    "        dObsD = dObs - D[:,i].reshape(Nd,1)\n",
    "        Od[i] = (dObsD.T) @ (CeInv[:,np.newaxis] * dObsD)/2\n",
    "    return Od\n",
    "\n",
    "# Replaces the pattern with the value in array cosrresponding its position.\n",
    "# Only 1 group per line for now...\n",
    "def ReplacePattern(matchobj, array):\n",
    "    return f'{array[int(matchobj.group(1))]:.2f}'"
   ]
  },
  {
   "cell_type": "code",
   "execution_count": 36,
   "metadata": {},
   "outputs": [],
   "source": [
    "#Building the prior ensemble based only on frac_aper \n",
    "# problem dimensions\n",
    "#Ni = m_true.nx\n",
    "#Nj = m_true.ny\n",
    "NGrid = 0 # Ni * Nj\n",
    "NScalar = 1 #we just considering one scalar as the parameter in the problem\n",
    "Nm = NGrid + NScalar\n",
    "Nd = len(dTime)* 1 #  timesteps * 1 well data\n",
    "Ne = 25\n",
    "NTimesteps = len(dTime)\n",
    "NWells = 1 #we just considering one well\n",
    "\n",
    "# svd truncation parameter for SVD \n",
    "csi = 0.99"
   ]
  },
  {
   "cell_type": "code",
   "execution_count": 37,
   "metadata": {},
   "outputs": [
    {
     "data": {
      "image/png": "[encoded data removed]",
      "text/plain": [
       "<Figure size 432x288 with 1 Axes>"
      ]
     },
     "metadata": {
      "needs_background": "light"
     },
     "output_type": "display_data"
    },
    {
     "data": {
      "text/plain": [
       "'c:\\\\Users\\\\bgy3\\\\OneDrive - PETROBRAS\\\\Documents\\\\PhD\\\\08.Simple-Fracture-Model-DARTS\\\\DA-DARTS-Naturally-Fractured-Reservoir-1'"
      ]
     },
     "execution_count": 37,
     "metadata": {},
     "output_type": "execute_result"
    }
   ],
   "source": [
    "#%%\n",
    "#Generate the prior ensemble of scalar parameters\n",
    "# build random values for fraction of aperture using normal distribution and fract_aper of the true model as mean as mean and 10% as std with seed=1\n",
    "Em_frac_aper = np.clip(np.random.normal(0.05, 0.01, Ne),0.0005,0.1) #cliping to keep only positive numbvers for the frac apertures \n",
    "\n",
    "# data colums\n",
    "columnsNameList = ['P1 : oil rate (m3/day)']\n",
    "\n",
    "MScalarPrior = Em_frac_aper\n",
    "#print MScalarPrioir histogram\n",
    "plt.hist(MScalarPrior, bins=100)\n",
    "plt.show()\n",
    "#%%\n",
    "curDir = os.getcwd()\n",
    "srcDir =  f'{curDir}'\n",
    "srcDir"
   ]
  },
  {
   "cell_type": "code",
   "execution_count": 39,
   "metadata": {},
   "outputs": [
    {
     "name": "stdout",
     "output_type": "stream",
     "text": [
      "0\n",
      "0.05373028869605234\n",
      "1\n",
      "0.05096553259743294\n",
      "2\n",
      "0.05742988630213643\n",
      "3\n",
      "0.06656112602393996\n",
      "4\n",
      "0.026234228101577085\n",
      "5\n",
      "0.02943558608128376\n",
      "6\n",
      "0.04729797873368415\n",
      "7\n",
      "0.05385407398399922\n",
      "8\n",
      "0.03650420041796533\n",
      "9\n",
      "0.05376846536098865\n",
      "10\n",
      "0.055277829730948684\n",
      "11\n",
      "0.03959802723570916\n",
      "12\n",
      "0.055105130200376454\n",
      "13\n",
      "0.05011394540921798\n",
      "14\n",
      "0.03933043190674919\n",
      "15\n",
      "0.046019435785188134\n",
      "16\n",
      "0.056065174956049006\n",
      "17\n",
      "0.0584686900991363\n",
      "18\n",
      "0.05021391661671524\n",
      "19\n",
      "0.04655383471252038\n",
      "20\n",
      "0.06461843515935621\n",
      "21\n",
      "0.05409824551079024\n",
      "22\n",
      "0.05380437501167639\n",
      "23\n",
      "0.06760371931504261\n",
      "24\n",
      "0.048736221953605385\n"
     ]
    }
   ],
   "source": [
    "#create a function to run ensemble simulations based on the prior ensemble\n",
    "for i, mMScalar in enumerate(MScalarPrior):\n",
    "   \n",
    "   print(i)\n",
    "   print(mMScalar)\n",
    "   \n",
    "\n",
    "\n",
    "   "
   ]
  },
  {
   "cell_type": "code",
   "execution_count": 40,
   "metadata": {},
   "outputs": [
    {
     "name": "stdout",
     "output_type": "stream",
     "text": [
      "darts-package built on 27/03/2022 15:20:27 by SRV950$@SRV950 from d89b1a8\n",
      "\n",
      "Elapsed time: 15.120505809783936 for model 0\n",
      "darts-package built on 27/03/2022 15:20:27 by SRV950$@SRV950 from d89b1a8\n",
      "\n",
      "Elapsed time: 15.070611953735352 for model 1\n",
      "darts-package built on 27/03/2022 15:20:27 by SRV950$@SRV950 from d89b1a8\n",
      "\n",
      "Elapsed time: 16.533860206604004 for model 2\n",
      "darts-package built on 27/03/2022 15:20:27 by SRV950$@SRV950 from d89b1a8\n",
      "\n",
      "Elapsed time: 15.53621792793274 for model 3\n",
      "darts-package built on 27/03/2022 15:20:27 by SRV950$@SRV950 from d89b1a8\n",
      "\n",
      "Elapsed time: 17.36869740486145 for model 4\n",
      "darts-package built on 27/03/2022 15:20:27 by SRV950$@SRV950 from d89b1a8\n",
      "\n",
      "Elapsed time: 16.315854787826538 for model 5\n",
      "darts-package built on 27/03/2022 15:20:27 by SRV950$@SRV950 from d89b1a8\n",
      "\n",
      "Elapsed time: 16.33400559425354 for model 6\n",
      "darts-package built on 27/03/2022 15:20:27 by SRV950$@SRV950 from d89b1a8\n",
      "\n",
      "Elapsed time: 16.56488585472107 for model 7\n",
      "darts-package built on 27/03/2022 15:20:27 by SRV950$@SRV950 from d89b1a8\n",
      "\n",
      "Elapsed time: 15.210334300994873 for model 8\n",
      "darts-package built on 27/03/2022 15:20:27 by SRV950$@SRV950 from d89b1a8\n",
      "\n",
      "Elapsed time: 16.849815130233765 for model 9\n",
      "darts-package built on 27/03/2022 15:20:27 by SRV950$@SRV950 from d89b1a8\n",
      "\n",
      "Elapsed time: 17.771018981933594 for model 10\n",
      "darts-package built on 27/03/2022 15:20:27 by SRV950$@SRV950 from d89b1a8\n",
      "\n",
      "Elapsed time: 15.630802631378174 for model 11\n",
      "darts-package built on 27/03/2022 15:20:27 by SRV950$@SRV950 from d89b1a8\n",
      "\n",
      "Elapsed time: 18.381325721740723 for model 12\n",
      "darts-package built on 27/03/2022 15:20:27 by SRV950$@SRV950 from d89b1a8\n",
      "\n",
      "Elapsed time: 16.63584566116333 for model 13\n",
      "darts-package built on 27/03/2022 15:20:27 by SRV950$@SRV950 from d89b1a8\n",
      "\n",
      "Elapsed time: 16.39411473274231 for model 14\n",
      "darts-package built on 27/03/2022 15:20:27 by SRV950$@SRV950 from d89b1a8\n",
      "\n",
      "Elapsed time: 20.831177949905396 for model 15\n",
      "darts-package built on 27/03/2022 15:20:27 by SRV950$@SRV950 from d89b1a8\n",
      "\n",
      "Elapsed time: 15.40320897102356 for model 16\n",
      "darts-package built on 27/03/2022 15:20:27 by SRV950$@SRV950 from d89b1a8\n",
      "\n",
      "Elapsed time: 17.306747913360596 for model 17\n",
      "darts-package built on 27/03/2022 15:20:27 by SRV950$@SRV950 from d89b1a8\n",
      "\n",
      "Elapsed time: 15.667794466018677 for model 18\n",
      "darts-package built on 27/03/2022 15:20:27 by SRV950$@SRV950 from d89b1a8\n",
      "\n",
      "Elapsed time: 20.54932951927185 for model 19\n",
      "darts-package built on 27/03/2022 15:20:27 by SRV950$@SRV950 from d89b1a8\n",
      "\n",
      "Elapsed time: 19.25882887840271 for model 20\n",
      "darts-package built on 27/03/2022 15:20:27 by SRV950$@SRV950 from d89b1a8\n",
      "\n",
      "Elapsed time: 17.259719371795654 for model 21\n",
      "darts-package built on 27/03/2022 15:20:27 by SRV950$@SRV950 from d89b1a8\n",
      "\n",
      "Elapsed time: 17.019510746002197 for model 22\n",
      "darts-package built on 27/03/2022 15:20:27 by SRV950$@SRV950 from d89b1a8\n",
      "\n",
      "Elapsed time: 16.381235122680664 for model 23\n",
      "darts-package built on 27/03/2022 15:20:27 by SRV950$@SRV950 from d89b1a8\n",
      "\n",
      "Elapsed time: 17.370932817459106 for model 24\n",
      "0\n",
      "0.0005\n",
      "1\n",
      "0.0005\n",
      "2\n",
      "0.0005\n",
      "3\n",
      "0.0005\n",
      "4\n",
      "0.0005\n",
      "5\n",
      "0.0005\n",
      "6\n",
      "0.0005\n",
      "7\n",
      "0.0005\n",
      "8\n",
      "0.0005\n",
      "9\n",
      "0.0005\n",
      "10\n",
      "0.0005\n",
      "11\n",
      "0.0005\n",
      "12\n",
      "0.0005\n",
      "13\n",
      "0.0005\n",
      "14\n",
      "0.0005\n",
      "15\n",
      "0.0005\n",
      "16\n",
      "0.0005\n",
      "17\n",
      "0.0005\n",
      "18\n",
      "0.0005\n",
      "19\n",
      "0.0005\n",
      "20\n",
      "0.0005\n",
      "21\n",
      "0.0005\n",
      "22\n",
      "0.0005\n",
      "23\n",
      "0.0005\n",
      "24\n",
      "0.0005\n",
      "darts-package built on 27/03/2022 15:20:27 by SRV950$@SRV950 from d89b1a8\n",
      "\n",
      "Elapsed time: 5.8524253368377686 for model 0\n",
      "darts-package built on 27/03/2022 15:20:27 by SRV950$@SRV950 from d89b1a8\n",
      "\n",
      "Elapsed time: 5.799341678619385 for model 1\n",
      "darts-package built on 27/03/2022 15:20:27 by SRV950$@SRV950 from d89b1a8\n",
      "\n",
      "Elapsed time: 5.644833326339722 for model 2\n",
      "darts-package built on 27/03/2022 15:20:27 by SRV950$@SRV950 from d89b1a8\n",
      "\n",
      "Elapsed time: 5.397680759429932 for model 3\n",
      "darts-package built on 27/03/2022 15:20:27 by SRV950$@SRV950 from d89b1a8\n",
      "\n",
      "Elapsed time: 5.347594738006592 for model 4\n",
      "darts-package built on 27/03/2022 15:20:27 by SRV950$@SRV950 from d89b1a8\n",
      "\n",
      "Elapsed time: 5.362495183944702 for model 5\n",
      "darts-package built on 27/03/2022 15:20:27 by SRV950$@SRV950 from d89b1a8\n",
      "\n",
      "Elapsed time: 5.452774286270142 for model 6\n",
      "darts-package built on 27/03/2022 15:20:27 by SRV950$@SRV950 from d89b1a8\n",
      "\n",
      "Elapsed time: 5.311212062835693 for model 7\n",
      "darts-package built on 27/03/2022 15:20:27 by SRV950$@SRV950 from d89b1a8\n",
      "\n",
      "Elapsed time: 5.262289524078369 for model 8\n",
      "darts-package built on 27/03/2022 15:20:27 by SRV950$@SRV950 from d89b1a8\n",
      "\n",
      "Elapsed time: 5.506709337234497 for model 9\n",
      "darts-package built on 27/03/2022 15:20:27 by SRV950$@SRV950 from d89b1a8\n",
      "\n",
      "Elapsed time: 5.310918092727661 for model 10\n",
      "darts-package built on 27/03/2022 15:20:27 by SRV950$@SRV950 from d89b1a8\n",
      "\n",
      "Elapsed time: 5.229912996292114 for model 11\n",
      "darts-package built on 27/03/2022 15:20:27 by SRV950$@SRV950 from d89b1a8\n",
      "\n",
      "Elapsed time: 5.293609857559204 for model 12\n",
      "darts-package built on 27/03/2022 15:20:27 by SRV950$@SRV950 from d89b1a8\n",
      "\n",
      "Elapsed time: 5.2532548904418945 for model 13\n",
      "darts-package built on 27/03/2022 15:20:27 by SRV950$@SRV950 from d89b1a8\n",
      "\n",
      "Elapsed time: 5.202316761016846 for model 14\n",
      "darts-package built on 27/03/2022 15:20:27 by SRV950$@SRV950 from d89b1a8\n",
      "\n",
      "Elapsed time: 5.266687631607056 for model 15\n",
      "darts-package built on 27/03/2022 15:20:27 by SRV950$@SRV950 from d89b1a8\n",
      "\n",
      "Elapsed time: 5.209775447845459 for model 16\n",
      "darts-package built on 27/03/2022 15:20:27 by SRV950$@SRV950 from d89b1a8\n",
      "\n",
      "Elapsed time: 5.228499889373779 for model 17\n",
      "darts-package built on 27/03/2022 15:20:27 by SRV950$@SRV950 from d89b1a8\n",
      "\n",
      "Elapsed time: 5.280123472213745 for model 18\n",
      "darts-package built on 27/03/2022 15:20:27 by SRV950$@SRV950 from d89b1a8\n",
      "\n",
      "Elapsed time: 5.1921608448028564 for model 19\n",
      "darts-package built on 27/03/2022 15:20:27 by SRV950$@SRV950 from d89b1a8\n",
      "\n",
      "Elapsed time: 5.36167049407959 for model 20\n",
      "darts-package built on 27/03/2022 15:20:27 by SRV950$@SRV950 from d89b1a8\n",
      "\n",
      "Elapsed time: 5.261992931365967 for model 21\n",
      "darts-package built on 27/03/2022 15:20:27 by SRV950$@SRV950 from d89b1a8\n",
      "\n",
      "Elapsed time: 5.1612327098846436 for model 22\n",
      "darts-package built on 27/03/2022 15:20:27 by SRV950$@SRV950 from d89b1a8\n",
      "\n",
      "Elapsed time: 5.166160821914673 for model 23\n",
      "darts-package built on 27/03/2022 15:20:27 by SRV950$@SRV950 from d89b1a8\n",
      "\n",
      "Elapsed time: 5.180857181549072 for model 24\n",
      "0\n",
      "0.0005\n",
      "1\n",
      "0.0005\n",
      "2\n",
      "0.0005\n",
      "3\n",
      "0.0005\n",
      "4\n",
      "0.0005\n",
      "5\n",
      "0.0005\n",
      "6\n",
      "0.0005\n",
      "7\n",
      "0.0005\n",
      "8\n",
      "0.0005\n",
      "9\n",
      "0.0005\n",
      "10\n",
      "0.0005\n",
      "11\n",
      "0.0005\n",
      "12\n",
      "0.0005\n",
      "13\n",
      "0.0005\n",
      "14\n",
      "0.0005\n",
      "15\n",
      "0.0005\n",
      "16\n",
      "0.0005\n",
      "17\n",
      "0.0005\n",
      "18\n",
      "0.0005\n",
      "19\n",
      "0.0005\n",
      "20\n",
      "0.0005\n",
      "21\n",
      "0.0005\n",
      "22\n",
      "0.0005\n",
      "23\n",
      "0.0005\n",
      "24\n",
      "0.0005\n",
      "darts-package built on 27/03/2022 15:20:27 by SRV950$@SRV950 from d89b1a8\n",
      "\n",
      "Elapsed time: 5.177209377288818 for model 0\n",
      "darts-package built on 27/03/2022 15:20:27 by SRV950$@SRV950 from d89b1a8\n",
      "\n",
      "Elapsed time: 5.2912492752075195 for model 1\n",
      "darts-package built on 27/03/2022 15:20:27 by SRV950$@SRV950 from d89b1a8\n",
      "\n",
      "Elapsed time: 5.165287971496582 for model 2\n",
      "darts-package built on 27/03/2022 15:20:27 by SRV950$@SRV950 from d89b1a8\n",
      "\n",
      "Elapsed time: 5.291228771209717 for model 3\n",
      "darts-package built on 27/03/2022 15:20:27 by SRV950$@SRV950 from d89b1a8\n",
      "\n",
      "Elapsed time: 5.240522146224976 for model 4\n",
      "darts-package built on 27/03/2022 15:20:27 by SRV950$@SRV950 from d89b1a8\n",
      "\n",
      "Elapsed time: 5.243196487426758 for model 5\n",
      "darts-package built on 27/03/2022 15:20:27 by SRV950$@SRV950 from d89b1a8\n",
      "\n",
      "Elapsed time: 5.2733964920043945 for model 6\n",
      "darts-package built on 27/03/2022 15:20:27 by SRV950$@SRV950 from d89b1a8\n",
      "\n",
      "Elapsed time: 5.13125205039978 for model 7\n",
      "darts-package built on 27/03/2022 15:20:27 by SRV950$@SRV950 from d89b1a8\n",
      "\n",
      "Elapsed time: 5.204123497009277 for model 8\n",
      "darts-package built on 27/03/2022 15:20:27 by SRV950$@SRV950 from d89b1a8\n",
      "\n",
      "Elapsed time: 5.173781156539917 for model 9\n",
      "darts-package built on 27/03/2022 15:20:27 by SRV950$@SRV950 from d89b1a8\n",
      "\n",
      "Elapsed time: 5.307481050491333 for model 10\n",
      "darts-package built on 27/03/2022 15:20:27 by SRV950$@SRV950 from d89b1a8\n",
      "\n",
      "Elapsed time: 5.193646192550659 for model 11\n",
      "darts-package built on 27/03/2022 15:20:27 by SRV950$@SRV950 from d89b1a8\n",
      "\n",
      "Elapsed time: 5.165919542312622 for model 12\n",
      "darts-package built on 27/03/2022 15:20:27 by SRV950$@SRV950 from d89b1a8\n",
      "\n",
      "Elapsed time: 5.175530433654785 for model 13\n",
      "darts-package built on 27/03/2022 15:20:27 by SRV950$@SRV950 from d89b1a8\n",
      "\n",
      "Elapsed time: 5.15515398979187 for model 14\n",
      "darts-package built on 27/03/2022 15:20:27 by SRV950$@SRV950 from d89b1a8\n",
      "\n",
      "Elapsed time: 5.086386680603027 for model 15\n",
      "darts-package built on 27/03/2022 15:20:27 by SRV950$@SRV950 from d89b1a8\n",
      "\n",
      "Elapsed time: 5.124583721160889 for model 16\n",
      "darts-package built on 27/03/2022 15:20:27 by SRV950$@SRV950 from d89b1a8\n",
      "\n",
      "Elapsed time: 5.089662790298462 for model 17\n",
      "darts-package built on 27/03/2022 15:20:27 by SRV950$@SRV950 from d89b1a8\n",
      "\n",
      "Elapsed time: 5.046400547027588 for model 18\n",
      "darts-package built on 27/03/2022 15:20:27 by SRV950$@SRV950 from d89b1a8\n",
      "\n",
      "Elapsed time: 5.091676235198975 for model 19\n",
      "darts-package built on 27/03/2022 15:20:27 by SRV950$@SRV950 from d89b1a8\n",
      "\n",
      "Elapsed time: 5.17257022857666 for model 20\n",
      "darts-package built on 27/03/2022 15:20:27 by SRV950$@SRV950 from d89b1a8\n",
      "\n",
      "Elapsed time: 5.18339729309082 for model 21\n",
      "darts-package built on 27/03/2022 15:20:27 by SRV950$@SRV950 from d89b1a8\n",
      "\n",
      "Elapsed time: 5.185561418533325 for model 22\n",
      "darts-package built on 27/03/2022 15:20:27 by SRV950$@SRV950 from d89b1a8\n",
      "\n",
      "Elapsed time: 5.108822822570801 for model 23\n",
      "darts-package built on 27/03/2022 15:20:27 by SRV950$@SRV950 from d89b1a8\n",
      "\n",
      "Elapsed time: 5.089640140533447 for model 24\n",
      "0\n",
      "0.0005\n",
      "1\n",
      "0.0005\n",
      "2\n",
      "0.0005\n",
      "3\n",
      "0.0005\n",
      "4\n",
      "0.0005\n",
      "5\n",
      "0.0005\n",
      "6\n",
      "0.0005\n",
      "7\n",
      "0.0005\n",
      "8\n",
      "0.0005\n",
      "9\n",
      "0.0005\n",
      "10\n",
      "0.0005\n",
      "11\n",
      "0.0005\n",
      "12\n",
      "0.0005\n",
      "13\n",
      "0.0005\n",
      "14\n",
      "0.0005\n",
      "15\n",
      "0.0005\n",
      "16\n",
      "0.0005\n",
      "17\n",
      "0.0005\n",
      "18\n",
      "0.0005\n",
      "19\n",
      "0.0005\n",
      "20\n",
      "0.0005\n",
      "21\n",
      "0.0005\n",
      "22\n",
      "0.0005\n",
      "23\n",
      "0.0005\n",
      "24\n",
      "0.0005\n",
      "darts-package built on 27/03/2022 15:20:27 by SRV950$@SRV950 from d89b1a8\n",
      "\n",
      "Elapsed time: 5.122824192047119 for model 0\n",
      "darts-package built on 27/03/2022 15:20:27 by SRV950$@SRV950 from d89b1a8\n",
      "\n",
      "Elapsed time: 5.1711437702178955 for model 1\n",
      "darts-package built on 27/03/2022 15:20:27 by SRV950$@SRV950 from d89b1a8\n",
      "\n",
      "Elapsed time: 5.309764385223389 for model 2\n",
      "darts-package built on 27/03/2022 15:20:27 by SRV950$@SRV950 from d89b1a8\n",
      "\n",
      "Elapsed time: 5.202234983444214 for model 3\n",
      "darts-package built on 27/03/2022 15:20:27 by SRV950$@SRV950 from d89b1a8\n",
      "\n",
      "Elapsed time: 5.1242523193359375 for model 4\n",
      "darts-package built on 27/03/2022 15:20:27 by SRV950$@SRV950 from d89b1a8\n",
      "\n",
      "Elapsed time: 5.160860300064087 for model 5\n",
      "darts-package built on 27/03/2022 15:20:27 by SRV950$@SRV950 from d89b1a8\n",
      "\n",
      "Elapsed time: 5.227651119232178 for model 6\n",
      "darts-package built on 27/03/2022 15:20:27 by SRV950$@SRV950 from d89b1a8\n",
      "\n",
      "Elapsed time: 5.2545554637908936 for model 7\n",
      "darts-package built on 27/03/2022 15:20:27 by SRV950$@SRV950 from d89b1a8\n",
      "\n",
      "Elapsed time: 5.19663667678833 for model 8\n",
      "darts-package built on 27/03/2022 15:20:27 by SRV950$@SRV950 from d89b1a8\n",
      "\n",
      "Elapsed time: 5.330032587051392 for model 9\n",
      "darts-package built on 27/03/2022 15:20:27 by SRV950$@SRV950 from d89b1a8\n",
      "\n",
      "Elapsed time: 5.250396013259888 for model 10\n",
      "darts-package built on 27/03/2022 15:20:27 by SRV950$@SRV950 from d89b1a8\n",
      "\n",
      "Elapsed time: 5.277631759643555 for model 11\n",
      "darts-package built on 27/03/2022 15:20:27 by SRV950$@SRV950 from d89b1a8\n",
      "\n",
      "Elapsed time: 5.241680145263672 for model 12\n",
      "darts-package built on 27/03/2022 15:20:27 by SRV950$@SRV950 from d89b1a8\n",
      "\n",
      "Elapsed time: 5.14421820640564 for model 13\n",
      "darts-package built on 27/03/2022 15:20:27 by SRV950$@SRV950 from d89b1a8\n",
      "\n",
      "Elapsed time: 5.171847343444824 for model 14\n",
      "darts-package built on 27/03/2022 15:20:27 by SRV950$@SRV950 from d89b1a8\n",
      "\n",
      "Elapsed time: 5.4291040897369385 for model 15\n",
      "darts-package built on 27/03/2022 15:20:27 by SRV950$@SRV950 from d89b1a8\n",
      "\n",
      "Elapsed time: 5.183017253875732 for model 16\n",
      "darts-package built on 27/03/2022 15:20:27 by SRV950$@SRV950 from d89b1a8\n",
      "\n",
      "Elapsed time: 5.2391417026519775 for model 17\n",
      "darts-package built on 27/03/2022 15:20:27 by SRV950$@SRV950 from d89b1a8\n",
      "\n",
      "Elapsed time: 5.242841720581055 for model 18\n",
      "darts-package built on 27/03/2022 15:20:27 by SRV950$@SRV950 from d89b1a8\n",
      "\n",
      "Elapsed time: 5.243972063064575 for model 19\n",
      "darts-package built on 27/03/2022 15:20:27 by SRV950$@SRV950 from d89b1a8\n",
      "\n",
      "Elapsed time: 5.132136821746826 for model 20\n",
      "darts-package built on 27/03/2022 15:20:27 by SRV950$@SRV950 from d89b1a8\n",
      "\n",
      "Elapsed time: 5.232608318328857 for model 21\n",
      "darts-package built on 27/03/2022 15:20:27 by SRV950$@SRV950 from d89b1a8\n",
      "\n",
      "Elapsed time: 5.14132285118103 for model 22\n",
      "darts-package built on 27/03/2022 15:20:27 by SRV950$@SRV950 from d89b1a8\n",
      "\n",
      "Elapsed time: 5.211545467376709 for model 23\n",
      "darts-package built on 27/03/2022 15:20:27 by SRV950$@SRV950 from d89b1a8\n",
      "\n",
      "Elapsed time: 5.223367214202881 for model 24\n",
      "0\n",
      "0.0005\n",
      "1\n",
      "0.0005\n",
      "2\n",
      "0.0005\n",
      "3\n",
      "0.0005\n",
      "4\n",
      "0.0005\n",
      "5\n",
      "0.0005\n",
      "6\n",
      "0.0005\n",
      "7\n",
      "0.0005\n",
      "8\n",
      "0.0005\n",
      "9\n",
      "0.0005\n",
      "10\n",
      "0.0005\n",
      "11\n",
      "0.0005\n",
      "12\n",
      "0.0005\n",
      "13\n",
      "0.0005\n",
      "14\n",
      "0.0005\n",
      "15\n",
      "0.0005\n",
      "16\n",
      "0.0005\n",
      "17\n",
      "0.0005\n",
      "18\n",
      "0.0005\n",
      "19\n",
      "0.0005\n",
      "20\n",
      "0.0005\n",
      "21\n",
      "0.0005\n",
      "22\n",
      "0.0005\n",
      "23\n",
      "0.0005\n",
      "24\n",
      "0.0005\n"
     ]
    }
   ],
   "source": [
    "# %%\n",
    "#Run ES-MDA\n",
    "SDiag = np.sqrt(CeDiag)\n",
    "SInvDiag = np.power(SDiag, -1)\n",
    "\n",
    "INd = np.eye(Nd)\n",
    "\n",
    "MGrid = [] #not considering grid parameters\n",
    "MScalar = MScalarPrior\n",
    "\n",
    "alphas = [4., 4., 4., 4.]\n",
    "l = 0\n",
    "for alpha in alphas:\n",
    "    # 2. Forecast\n",
    "\n",
    "    # Generates the perturbed observations \n",
    "    z = np.random.normal(size=(Nd,Ne))\n",
    "    DPObs = dObs[:,np.newaxis] + math.sqrt(alpha) * CeDiag[:,np.newaxis] * z\n",
    "\n",
    "    # Run the simulations g(M) \n",
    "    destDir = f'{curDir}\\\\simulations_deadoil\\\\it{l}'\n",
    "    RunModels(destDir, MScalar)\n",
    "    D = ReadModels(destDir, columnsNameList, Nd, Ne)\n",
    "    if (l == 0):\n",
    "        DPrior = D\n",
    "\n",
    "    DobsD = DPObs - D\n",
    "\n",
    "    # 4. Analysis\n",
    "    # 4.1 Invert matrix C\n",
    "\n",
    "    # Calculates DeltaD (12.5)\n",
    "    meanMatrix = np.mean(D, axis=1)\n",
    "    DeltaD = D - meanMatrix[:,np.newaxis]\n",
    "\n",
    "    # Calculates CHat (12.10)\n",
    "    CHat = SInvDiag[:,np.newaxis] * ( DeltaD @ DeltaD.T ) * SInvDiag[np.newaxis,:] + alpha * (Ne - 1) * INd\n",
    "\n",
    "    # Calculates Gamma and X (12.18)\n",
    "    U, SigmaDiag, Vt = np.linalg.svd(CHat)\n",
    "    Nr = FindTruncationNumber(SigmaDiag, csi)\n",
    "\n",
    "    GammaDiag = np.power(SigmaDiag[0:Nr], -1)\n",
    "    X = SInvDiag[:,np.newaxis] * U[:,0:Nr]\n",
    "\n",
    "    # Calculates M^a (12.21)\n",
    "    X1 = GammaDiag[:,np.newaxis] * X.T\n",
    "    X8 = DeltaD.T @ X\n",
    "    X9 = X8 @ X1\n",
    "    \n",
    "    # subpart: for grid, use localization\n",
    "    #MGrid = UpdateModelLocalized(MGrid, X9, Rmd, DobsD)\n",
    "\n",
    "    # subpart: for scalars, don't use localization\n",
    "    \n",
    "    MScalar = UpdateModel(MScalar, X9, DobsD)\n",
    "    MScalar[:] = np.clip(MScalar[:], 0.0005,0.1)\n",
    "    for i, mMScalar in enumerate(MScalar):\n",
    "     print(i)\n",
    "     print(mMScalar)\n",
    "   \n",
    "    l += 1\n",
    "#%%\n",
    "#MGridPost = MGrid\n",
    "MScalarPost = MScalar\n",
    "DPost = D\n",
    "\n"
   ]
  },
  {
   "cell_type": "code",
   "execution_count": 31,
   "metadata": {},
   "outputs": [
    {
     "data": {
      "text/plain": [
       "'c:\\\\Users\\\\bgy3\\\\OneDrive - PETROBRAS\\\\Documents\\\\PhD\\\\08.Simple-Fracture-Model-DARTS\\\\DA-DARTS-Naturally-Fractured-Reservoir-1\\\\simulations_deadoil\\\\it3'"
      ]
     },
     "execution_count": 31,
     "metadata": {},
     "output_type": "execute_result"
    }
   ],
   "source": [
    "destDir"
   ]
  },
  {
   "cell_type": "code",
   "execution_count": 41,
   "metadata": {},
   "outputs": [
    {
     "name": "stdout",
     "output_type": "stream",
     "text": [
      "Mean: prior=2.044e+12, post=2.454e+08\n",
      "Std: prior=2.032e+11, post=0.000e+00\n"
     ]
    },
    {
     "data": {
      "text/plain": [
       "Text(0.5, 1.0, 'Histograms Objetive Functions')"
      ]
     },
     "execution_count": 41,
     "metadata": {},
     "output_type": "execute_result"
    },
    {
     "data": {
      "image/png": "[encoded data removed]",
      "text/plain": [
       "<Figure size 432x288 with 1 Axes>"
      ]
     },
     "metadata": {
      "needs_background": "light"
     },
     "output_type": "display_data"
    }
   ],
   "source": [
    "#%%\n",
    "# Comparison of data mismatch objective function\n",
    "# prior (l = 0)\n",
    "CeInv = np.power(CeDiag, -1)\n",
    "OPrior = calcDataMismatchObjectiveFunction(dObs[:,np.newaxis], DPrior, CeInv)\n",
    "OPost = calcDataMismatchObjectiveFunction(dObs[:,np.newaxis], DPost, CeInv)\n",
    "\n",
    "print(f'Mean: prior={np.mean(OPrior):.3e}, post={np.mean(OPost):.3e}')\n",
    "print(f'Std: prior={np.std(OPrior, ddof=1):.3e}, post={np.std(OPost, ddof=1):.3e}')\n",
    "\n",
    "fig, ax = plt.subplots()#plt.subplots(figsize=(Ne,Ne))\n",
    "colors=['red','green']\n",
    "x = np.stack((OPrior, OPost), axis=1)\n",
    "#ax.hist(x, bins=40, alpha=0.8, color=colors, range=(x.min(),1e7))\n",
    "ax.hist(x, bins=50, alpha=0.8, color=colors)\n",
    "ax.set_title('Histograms Objetive Functions')"
   ]
  },
  {
   "cell_type": "code",
   "execution_count": 42,
   "metadata": {},
   "outputs": [
    {
     "name": "stdout",
     "output_type": "stream",
     "text": [
      "Mean: prior=5.046e-02, post=5.000e-04\n",
      "Std: prior=1.023e-02, post=0.000e+00\n"
     ]
    },
    {
     "data": {
      "text/plain": [
       "Text(0.5, 1.0, 'Histograms Fracture Apertures before and after history matching')"
      ]
     },
     "execution_count": 42,
     "metadata": {},
     "output_type": "execute_result"
    },
    {
     "data": {
      "image/png": "[encoded data removed]",
      "text/plain": [
       "<Figure size 432x288 with 1 Axes>"
      ]
     },
     "metadata": {
      "needs_background": "light"
     },
     "output_type": "display_data"
    }
   ],
   "source": [
    "#Compare  the histograms of frac_aper prior and post\n",
    "\n",
    "print(f'Mean: prior={np.mean(MScalarPrior):.3e}, post={np.mean(MScalarPost):.3e}')\n",
    "print(f'Std: prior={np.std(MScalarPrior, ddof=1):.3e}, post={np.std(MScalarPost, ddof=1):.3e}')\n",
    "\n",
    "\n",
    "fig, ax = plt.subplots()#plt.subplots(figsize=(Ne,Ne))\n",
    "colors=['red','green']\n",
    "x = np.stack((MScalarPrior, MScalarPost), axis=1)\n",
    "#ax.hist(x, bins=40, alpha=0.8, color=colors, range=(x.min(),1e7))\n",
    "ax.hist(x, bins=50, alpha=0.8, color=colors)\n",
    "ax.set_title('Histograms Fracture Apertures before and after history matching')\n",
    "\n"
   ]
  },
  {
   "cell_type": "code",
   "execution_count": 45,
   "metadata": {},
   "outputs": [
    {
     "ename": "IndexError",
     "evalue": "list index out of range",
     "output_type": "error",
     "traceback": [
      "\u001b[1;31m---------------------------------------------------------------------------\u001b[0m",
      "\u001b[1;31mIndexError\u001b[0m                                Traceback (most recent call last)",
      "\u001b[1;32m<ipython-input-45-6b35f5ec10f1>\u001b[0m in \u001b[0;36m<module>\u001b[1;34m\u001b[0m\n\u001b[0;32m     30\u001b[0m \u001b[1;33m\u001b[0m\u001b[0m\n\u001b[0;32m     31\u001b[0m \u001b[1;33m\u001b[0m\u001b[0m\n\u001b[1;32m---> 32\u001b[1;33m \u001b[0maxFlat\u001b[0m\u001b[1;33m[\u001b[0m\u001b[1;36m1\u001b[0m\u001b[1;33m]\u001b[0m\u001b[1;33m.\u001b[0m\u001b[0mplot\u001b[0m\u001b[1;33m(\u001b[0m\u001b[0mtimeMonths\u001b[0m\u001b[1;33m,\u001b[0m \u001b[0mprior\u001b[0m\u001b[1;33m[\u001b[0m\u001b[1;36m1\u001b[0m\u001b[1;33m]\u001b[0m\u001b[1;33m,\u001b[0m \u001b[0mcolor\u001b[0m\u001b[1;33m=\u001b[0m\u001b[1;34m'#00FFFF'\u001b[0m\u001b[1;33m,\u001b[0m \u001b[0malpha\u001b[0m\u001b[1;33m=\u001b[0m\u001b[1;36m0.3\u001b[0m\u001b[1;33m)\u001b[0m\u001b[1;33m\u001b[0m\u001b[1;33m\u001b[0m\u001b[0m\n\u001b[0m\u001b[0;32m     33\u001b[0m \u001b[0maxFlat\u001b[0m\u001b[1;33m[\u001b[0m\u001b[1;36m1\u001b[0m\u001b[1;33m]\u001b[0m\u001b[1;33m.\u001b[0m\u001b[0mplot\u001b[0m\u001b[1;33m(\u001b[0m\u001b[0mtimeMonths\u001b[0m\u001b[1;33m,\u001b[0m \u001b[0mpost\u001b[0m\u001b[1;33m[\u001b[0m\u001b[1;36m1\u001b[0m\u001b[1;33m]\u001b[0m\u001b[1;33m,\u001b[0m \u001b[0mcolor\u001b[0m\u001b[1;33m=\u001b[0m\u001b[1;34m'b'\u001b[0m\u001b[1;33m,\u001b[0m \u001b[0malpha\u001b[0m\u001b[1;33m=\u001b[0m\u001b[1;36m0.3\u001b[0m\u001b[1;33m)\u001b[0m\u001b[1;33m\u001b[0m\u001b[1;33m\u001b[0m\u001b[0m\n\u001b[0;32m     34\u001b[0m \u001b[0maxFlat\u001b[0m\u001b[1;33m[\u001b[0m\u001b[1;36m1\u001b[0m\u001b[1;33m]\u001b[0m\u001b[1;33m.\u001b[0m\u001b[0mscatter\u001b[0m\u001b[1;33m(\u001b[0m\u001b[0mtimeMonths\u001b[0m\u001b[1;33m,\u001b[0m \u001b[0mplotObsData\u001b[0m\u001b[1;33m[\u001b[0m\u001b[1;36m1\u001b[0m\u001b[1;33m]\u001b[0m\u001b[1;33m,\u001b[0m\u001b[0mcolor\u001b[0m\u001b[1;33m=\u001b[0m\u001b[1;34m'red'\u001b[0m\u001b[1;33m,\u001b[0m \u001b[0malpha\u001b[0m\u001b[1;33m=\u001b[0m\u001b[1;36m0.5\u001b[0m\u001b[1;33m)\u001b[0m\u001b[1;33m\u001b[0m\u001b[1;33m\u001b[0m\u001b[0m\n",
      "\u001b[1;31mIndexError\u001b[0m: list index out of range"
     ]
    },
    {
     "data": {
      "image/png": "[encoded data removed]",
      "text/plain": [
       "<Figure size 1800x576 with 2 Axes>"
      ]
     },
     "metadata": {
      "needs_background": "light"
     },
     "output_type": "display_data"
    }
   ],
   "source": [
    "#%%\n",
    "# Split the data into data array\n",
    "wellDataPriorArray = np.split(DPrior, NWells)\n",
    "wellDataPostArray = np.split(DPost, NWells)\n",
    "wellDataObsArray = np.split(dObs, NWells)\n",
    "wellDataObsErrorArray = np.split(CeDiag, NWells)\n",
    "\n",
    "wellSubtitle = ['P1']\n",
    "timeMonths = dTime/30.0\n",
    "\n",
    "\n",
    "# get data and store in an array\n",
    "prior = wellDataPriorArray # wellDataPriorArray[0:11:2]\n",
    "post = wellDataPostArray # wellDataPostArray[0:11:2]\n",
    "plotObsData = wellDataObsArray #wellDataObsArray[0:11:2]\n",
    "errObsData = wellDataObsErrorArray #wellDataObsErrorArray[0:11:2]\n",
    "\n",
    "fig, ax = plt.subplots(nrows=1, ncols=2, figsize=(25,8))\n",
    "axFlat = ax.flatten()\n",
    "\n",
    "axFlat[0].set_facecolor('white')\n",
    "axFlat[0].plot(timeMonths, prior[0], color='#00FFFF', alpha=0.3)\n",
    "axFlat[0].plot(timeMonths, post[0], color='b', alpha=0.3)\n",
    "axFlat[0].errorbar(timeMonths, plotObsData[0], yerr=errObsData[0], fmt='_ r', capthick=1, capsize=0.1)\n",
    "#axFlat[0].plot(timeMonths, plotObsData[i],color='red', alpha=0.5)\n",
    "axFlat[0].set_title(wellSubtitle[0])\n",
    "axFlat[0].set_xlabel('Time (months)')\n",
    "axFlat[0].set_ylabel('oil rate (m3/day)')\n",
    "axFlat[0].set_ylim([0, 3000])\n",
    "\n",
    "\n",
    "axFlat[1].plot(timeMonths, prior[1], color='#00FFFF', alpha=0.3)\n",
    "axFlat[1].plot(timeMonths, post[1], color='b', alpha=0.3)\n",
    "axFlat[1].scatter(timeMonths, plotObsData[1],color='red', alpha=0.5)\n",
    "axFlat[1].set_title(wellSubtitle[0])\n",
    "axFlat[1].set_xlabel('Time (months)')\n",
    "axFlat[1].set_ylabel('oil rate (m3/day)')\n",
    "#axFlat[1].set_ylim([342, 348])\n",
    "fig.suptitle('P1 : oil rate (m3/day)')\n"
   ]
  },
  {
   "cell_type": "code",
   "execution_count": 1,
   "metadata": {},
   "outputs": [
    {
     "name": "stderr",
     "output_type": "stream",
     "text": [
      "[NbConvertApp] Converting notebook mainDA_explained.ipynb to html\n",
      "[NbConvertApp] Writing 701465 bytes to mainDA_explained.html\n"
     ]
    }
   ],
   "source": [
    "!jupyter nbconvert --to html mainDA_explained.ipynb"
   ]
  },
  {
   "cell_type": "markdown",
   "metadata": {},
   "source": [
    "Evaluating the Water Rate Results"
   ]
  },
  {
   "cell_type": "code",
   "execution_count": 155,
   "metadata": {},
   "outputs": [],
   "source": [
    "vazao = ['P1 : water rate (m3/day)']\n",
    "#Read the result of the posterior\n",
    "D_qw = ReadModels(destDir, vazao, Nd, Ne)*(-1)\n",
    "#Read the result of the prior\n",
    "Prior = 20\n",
    "D_qw_prior = ReadModels('simulations\\it0', vazao, Nd, Prior)*(-1)\n",
    "\n",
    "#Read the reference data \n",
    "obsData_qw= np.array(time_data['P1 : water rate (m3/day)'])\n",
    "obsValues_qw = np.array(obsData_qw)*(-1)\n",
    "dObs_qw = obsValues_qw.T.flatten()\n",
    "CeDiag_qw =np.array(0.001*dObs_qw[:]) #diagonal of the covariance matrix of observed data %1 of the water rate\n",
    "\n"
   ]
  },
  {
   "cell_type": "code",
   "execution_count": 162,
   "metadata": {},
   "outputs": [
    {
     "data": {
      "text/plain": [
       "Text(0.5, 0.98, 'P1 : water rate (m3/day)')"
      ]
     },
     "execution_count": 162,
     "metadata": {},
     "output_type": "execute_result"
    },
    {
     "data": {
      "image/png": "[encoded data removed]",
      "text/plain": [
       "<Figure size 1800x576 with 2 Axes>"
      ]
     },
     "metadata": {
      "needs_background": "light"
     },
     "output_type": "display_data"
    }
   ],
   "source": [
    "#%%\n",
    "# Split the data into data array\n",
    "wellDataPriorArray = np.split(D_qw_prior, NWells)\n",
    "wellDataPostArray = np.split(D_qw, NWells)\n",
    "wellDataObsArray = np.split(dObs_qw, NWells)\n",
    "wellDataObsErrorArray = np.split(CeDiag_qw, NWells)\n",
    "\n",
    "wellSubtitle = ['P1']\n",
    "timeMonths = dTime/30.0\n",
    "\n",
    "\n",
    "# get data and store in an array\n",
    "prior = wellDataPriorArray # wellDataPriorArray[0:11:2]\n",
    "post = wellDataPostArray # wellDataPostArray[0:11:2]\n",
    "plotObsData = wellDataObsArray #wellDataObsArray[0:11:2]\n",
    "errObsData = wellDataObsErrorArray #wellDataObsErrorArray[0:11:2]\n",
    "\n",
    "fig, ax = plt.subplots(nrows=1, ncols=2, figsize=(25,8))\n",
    "axFlat = ax.flatten()\n",
    "\n",
    "axFlat[0].set_facecolor('white')\n",
    "axFlat[0].plot(timeMonths, prior[0], color='#00FFFF', alpha=0.3)\n",
    "axFlat[0].plot(timeMonths, post[0], color='b', alpha=0.3)\n",
    "axFlat[0].errorbar(timeMonths, plotObsData[0], yerr=errObsData[i], fmt='_ r', capthick=1, capsize=4)\n",
    "#axFlat[0].plot(timeMonths, plotObsData[i],color='red', alpha=0.5)\n",
    "axFlat[0].set_title(wellSubtitle[0])\n",
    "axFlat[0].set_xlabel('Time (months)')\n",
    "axFlat[0].set_ylabel('Water Rate (m3/day)')\n",
    "axFlat[0].set_ylim([0, 3500])\n",
    "\n",
    "axFlat[1].plot(timeMonths, prior[0], color='#00FFFF', alpha=0.3)\n",
    "axFlat[1].plot(timeMonths, post[0], color='b', alpha=0.3)\n",
    "axFlat[1].scatter(timeMonths, plotObsData[0],color='red', alpha=0.5)\n",
    "axFlat[1].set_title(wellSubtitle[0])\n",
    "axFlat[1].set_xlabel('Time (months)')\n",
    "axFlat[1].set_ylabel('Water Rate (m3/day)')\n",
    "axFlat[1].set_ylim([0, 3500])\n",
    "fig.suptitle('P1 : water rate (m3/day)')\n",
    "\n"
   ]
  },
  {
   "cell_type": "code",
   "execution_count": null,
   "metadata": {},
   "outputs": [],
   "source": []
  },
  {
   "cell_type": "code",
   "execution_count": 164,
   "metadata": {},
   "outputs": [
    {
     "name": "stdout",
     "output_type": "stream",
     "text": [
      "Mean: prior=8.654e+07, post=1.637e+04\n",
      "Std: prior=1.268e+08, post=4.385e+04\n"
     ]
    },
    {
     "data": {
      "text/plain": [
       "Text(0.5, 1.0, 'Histograms Objetive Functions for water rate')"
      ]
     },
     "execution_count": 164,
     "metadata": {},
     "output_type": "execute_result"
    },
    {
     "data": {
      "image/png": "[encoded data removed]",
      "text/plain": [
       "<Figure size 432x288 with 1 Axes>"
      ]
     },
     "metadata": {
      "needs_background": "light"
     },
     "output_type": "display_data"
    }
   ],
   "source": [
    "#%%\n",
    "# Comparison of data mismatch objective function\n",
    "CeInv_qw = np.power(CeDiag_qw, -1)\n",
    "OPrior_qw = calcDataMismatchObjectiveFunction(dObs_qw[:,np.newaxis],D_qw_prior, CeInv_qw)\n",
    "OPost_qw = calcDataMismatchObjectiveFunction(dObs_qw[:,np.newaxis],D_qw, CeInv_qw)\n",
    "print(f'Mean: prior={np.mean(OPrior_qw):.3e}, post={np.mean(OPost_qw):.3e}')\n",
    "print(f'Std: prior={np.std(OPrior_qw, ddof=1):.3e}, post={np.std(OPost_qw, ddof=1):.3e}')\n",
    "\n",
    "fig, ax = plt.subplots()#plt.subplots(figsize=(Ne,Ne))\n",
    "colors=['red','green']\n",
    "x = np.stack((OPrior_qw, OPost_qw), axis=1)\n",
    "#ax.hist(x, bins=40, alpha=0.8, color=colors, range=(x.min(),1e7))\n",
    "ax.hist(x, bins=50, alpha=0.8, color=colors)\n",
    "ax.set_title('Histograms Objetive Functions for water rate')"
   ]
  },
  {
   "cell_type": "code",
   "execution_count": null,
   "metadata": {},
   "outputs": [],
   "source": []
  }
 ],
 "metadata": {
  "kernelspec": {
   "display_name": "Python 3.8.3 ('base')",
   "language": "python",
   "name": "python3"
  },
  "language_info": {
   "codemirror_mode": {
    "name": "ipython",
    "version": 3
   },
   "file_extension": ".py",
   "mimetype": "text/x-python",
   "name": "python",
   "nbconvert_exporter": "python",
   "pygments_lexer": "ipython3",
   "version": "3.8.3"
  },
  "orig_nbformat": 4,
  "vscode": {
   "interpreter": {
    "hash": "ad2bdc8ecc057115af97d19610ffacc2b4e99fae6737bb82f5d7fb13d2f2c186"
   }
  }
 },
 "nbformat": 4,
 "nbformat_minor": 2
}
