{
 "cells": [
  {
   "cell_type": "code",
   "execution_count": 1,
   "metadata": {},
   "outputs": [],
   "source": [
    "#%%\n",
    "# Section of the Python code where we import all dependencies on third party Python modules/libaries or our own\n",
    "# libraries (exposed C++ code to Python, i.e. darts.engines && darts.physics)\n",
    "from model_deadoil import ModelDA\n",
    "import numpy as np\n",
    "import meshio\n",
    "from darts.engines import *\n",
    "\n",
    "import concurrent.futures\n",
    "import math\n",
    "import os\n",
    "import re\n",
    "import shutil\n",
    "import time\n",
    "\n",
    "import matplotlib.pyplot as plt\n",
    "import matplotlib.colors as colors\n",
    "import matplotlib.cm as cm\n",
    "import pandas as pd\n",
    "import scipy.stats as stats"
   ]
  },
  {
   "cell_type": "code",
   "execution_count": 3,
   "metadata": {},
   "outputs": [],
   "source": [
    "#%%\n",
    "#function to get an angle and output apertures \n",
    "\n",
    "def aperture_vec(rotation):\n",
    "    def calc_aperture(sigma_n):\n",
    "        JRC = 7.225\n",
    "        JCS = 17.5\n",
    "        e_0 = 0.15\n",
    "        v_m = -0.1032 - 0.0074 * JRC + 1.135 * (JCS / e_0) ** -0.251\n",
    "        K_ni = -7.15 + 1.75 * JRC + 0.02 * JCS / e_0\n",
    "        return e_0 - (1 / v_m + K_ni / sigma_n) ** -1\n",
    "\n",
    "\n",
    "    DIR = 'mesh_files'\n",
    "    scale = 15\n",
    "    mesh_file = os.path.join(DIR, 'mesh_{:}_real_6.msh'.format(scale))\n",
    "    mesh_data = meshio.read(mesh_file)\n",
    "    num_frac = mesh_data.cells[0].data.shape[0]\n",
    "    act_frac_sys = np.zeros((num_frac, 4))\n",
    "\n",
    "    for ii in range(num_frac):\n",
    "        ith_line = mesh_data.points[mesh_data.cells[0].data[ii][:2]]\n",
    "        act_frac_sys[ii, :2] = ith_line[0, :2]\n",
    "        act_frac_sys[ii, 2:] = ith_line[1, :2]\n",
    "\n",
    "    # Plot to check if it worked:\n",
    "    #plt.figure()\n",
    "    #plt.plot(np.array([act_frac_sys[:, 0], act_frac_sys[:, 2]]),\n",
    "    #         np.array([act_frac_sys[:, 1], act_frac_sys[:, 3]]), color='black')\n",
    "    #plt.show()\n",
    "\n",
    "    epsilon = 1e-4\n",
    "    dx = act_frac_sys[:, 0] - act_frac_sys[:, 2] + epsilon * np.random.rand(num_frac)\n",
    "    dy = act_frac_sys[:, 1] - act_frac_sys[:, 3] + epsilon * np.random.rand(num_frac)\n",
    "    #rotation = 0\n",
    "    angles = np.arctan(dy / dx) * 180 / np.pi + rotation + epsilon * np.random.rand(num_frac)\n",
    "    sigma_H = 5\n",
    "    sigma_h = 1\n",
    "    sigma_n = (sigma_H + sigma_h) / 2 + (sigma_H + sigma_h) / 2 * np.cos(angles * np.pi / 180 * 2)\n",
    "    factor_aper = 2.5\n",
    "    fracture_aper = calc_aperture(sigma_n) * 1e-3 * factor_aper\n",
    "    fracture_aper[fracture_aper < 1e-9] = 1e-9\n",
    "    fracture_aper[fracture_aper > 0.15 * 1e-3 * factor_aper] = 0.15 * 1e-3 * factor_aper\n",
    "\n",
    "    m_to_mm = 1e3\n",
    "    min_aper = 1e-9 * m_to_mm\n",
    "    max_aper = 0.15 * 1e-3 * factor_aper * m_to_mm\n",
    "    fracs = fracture_aper * m_to_mm\n",
    "    fracs[fracs < min_aper] = min_aper\n",
    "    fracs[fracs > max_aper] = max_aper\n",
    "    #norm = colors.Normalize(min_aper, max_aper)\n",
    "    #colors_aper = cm.viridis(norm(fracs))\n",
    "    #cutoff_value = min_aper\n",
    "\n",
    "    #comement lines below\n",
    "    #fig, ax = plt.subplots(1, 1, figsize=(10, 10), dpi=400, facecolor='w', edgecolor='k')\n",
    "    #for ii in range(len(fracs)):\n",
    "    #    if fracs[ii] >= cutoff_value:\n",
    "    #        ax.plot(np.array([act_frac_sys[ii, 0], act_frac_sys[ii, 2]]),\n",
    "    #                np.array([act_frac_sys[ii, 1], act_frac_sys[ii, 3]]),\n",
    "    #                 color=colors_aper[ii, :-1])\n",
    "\n",
    "    #ax.axis('equal')\n",
    "\n",
    "    #for tick in ax.xaxis.get_major_ticks():\n",
    "    #    tick.label.set_fontsize(14)\n",
    "    #for tick in ax.yaxis.get_major_ticks():\n",
    "    #    tick.label.set_fontsize(14)\n",
    "\n",
    "    #sm = plt.cm.ScalarMappable(cmap=cm.viridis, norm=norm)\n",
    "    #sm._A = []\n",
    "    #cbar = plt.colorbar(sm)\n",
    "    #cbar.set_label(r'Aperture, $a$ [mm]')\n",
    "\n",
    "    #plt.tight_layout()\n",
    "    #plt.savefig(\"variable_aperture_base_case_scale_{:}.pdf\".format(scale))\n",
    "    #plt.show()\n",
    "    return np.array(fracture_aper)\n",
    "\n"
   ]
  },
  {
   "cell_type": "code",
   "execution_count": 4,
   "metadata": {},
   "outputs": [
    {
     "name": "stdout",
     "output_type": "stream",
     "text": [
      "\n"
     ]
    },
    {
     "data": {
      "text/plain": [
       "(1370,)"
      ]
     },
     "execution_count": 4,
     "metadata": {},
     "output_type": "execute_result"
    }
   ],
   "source": [
    "aperture_vec(30).shape"
   ]
  },
  {
   "cell_type": "code",
   "execution_count": 32,
   "metadata": {},
   "outputs": [
    {
     "name": "stdout",
     "output_type": "stream",
     "text": [
      "\n",
      "\n",
      "\n"
     ]
    },
    {
     "data": {
      "image/png": "[encoded data removed]",
      "text/plain": [
       "<Figure size 432x288 with 1 Axes>"
      ]
     },
     "metadata": {
      "needs_background": "light"
     },
     "output_type": "display_data"
    }
   ],
   "source": [
    "#%%\n",
    "#First we define the model that will be used as refference with a 8138 distribution of fracture appertures - np.array with 8138 elements distributed from a uniform distribution\n",
    "angle_ref = 30 #degress\n",
    "NFractures = aperture_vec(angle_ref).shape[0]\n",
    "frac_aper_het =  np.zeros(NFractures)\n",
    "frac_aper_het = aperture_vec(angle_ref) #np.clip(np.random.normal(1e-3, 0.1*(1e-3), NFractures),0.0005,0.0015)\n",
    "plt.hist(frac_aper_het, bins=200)\n",
    "plt.title(f'{aperture_vec(angle_ref).shape[0]} fracture appertures for the refrence model with {angle_ref} degrees')\n",
    "plt.show()"
   ]
  },
  {
   "cell_type": "code",
   "execution_count": 8,
   "metadata": {},
   "outputs": [
    {
     "name": "stdout",
     "output_type": "stream",
     "text": [
      "\n",
      "darts-package built on 27/03/2022 15:20:27 by SRV950$@SRV950 from d89b1a8\n",
      "\n"
     ]
    }
   ],
   "source": [
    "#%%\n",
    "#First we define the model that will be used as refference frac_aper = = 1e-3 (base case produced by Stephan)\n",
    "# \n",
    "m_true = ModelDA(frac_aper =aperture_vec(30))\n",
    "time_range = np.arange(0,1000, 10)+1\n",
    "# After constructing the model, the simulator needs to be initialized. The init() class method is called, which is\n",
    "# inherited (https://www.python-course.eu/python3_inheritance.php) from the parent class DartsModel (found in\n",
    "# darts/models/darts_model.py (NOTE: This is not the same as the__init__(self, **) method which each class (should)\n",
    "# have).\n",
    "\n",
    "m_true.init()\n",
    "# Specify some other time-related properties (NOTE: all time parameters are in [days])\n",
    "m_true.params.max_ts = 1  # Adjust the maximum time-step as desired (this is overwriting the max_ts specified in model.py)\n",
    "m_true.run(time_range[-1])"
   ]
  },
  {
   "cell_type": "code",
   "execution_count": 9,
   "metadata": {},
   "outputs": [],
   "source": [
    "import pandas as pd\n",
    "time_data = pd.DataFrame.from_dict(m_true.physics.engine.time_data)\n",
    "writer = pd.ExcelWriter('m_true_time_data.xlsx')\n",
    "time_data.to_excel(writer, 'Sheet1')\n",
    "writer.save()\n",
    "\n"
   ]
  },
  {
   "cell_type": "code",
   "execution_count": 10,
   "metadata": {},
   "outputs": [
    {
     "data": {
      "image/png": "[encoded data removed]",
      "text/plain": [
       "<Figure size 432x288 with 1 Axes>"
      ]
     },
     "metadata": {
      "needs_background": "light"
     },
     "output_type": "display_data"
    }
   ],
   "source": [
    "from darts.tools.plot_darts import *\n",
    "prod = m_true.reservoir.wells[1]\n",
    "inj =   m_true.reservoir.wells[0]\n",
    "ax2 = plot_oil_rate_darts(prod.name, time_data)\n"
   ]
  },
  {
   "cell_type": "code",
   "execution_count": 11,
   "metadata": {},
   "outputs": [
    {
     "data": {
      "image/png": "[encoded data removed]",
      "text/plain": [
       "<Figure size 432x288 with 1 Axes>"
      ]
     },
     "metadata": {
      "needs_background": "light"
     },
     "output_type": "display_data"
    }
   ],
   "source": [
    "ax3 = plot_watercut_darts(prod.name, time_data)"
   ]
  },
  {
   "cell_type": "code",
   "execution_count": 12,
   "metadata": {},
   "outputs": [],
   "source": [
    "# data colums\n",
    "columnsNameList = ['P1 : oil rate (m3/day)']\n",
    "#create a function that store the mean of the data in a array X of Y elements that are between two values a and b\n",
    "def media_function(time_range, time_data,columnsNameList):\n",
    "    media =[]\n",
    "    i= 1\n",
    "    while i<=(len(time_range)-1):\n",
    "        s=[]\n",
    "        for j,tempo in enumerate(time_data['time']):\n",
    "                if time_range[i-1]<time_data['time'][j]<=time_range[i]:\n",
    "                    s.append(time_data[columnsNameList[0]][j])\n",
    "                    np.mean(s)\n",
    "        media.append(np.mean(s))\n",
    "        i=i+1\n",
    "    return media"
   ]
  },
  {
   "cell_type": "code",
   "execution_count": 13,
   "metadata": {},
   "outputs": [],
   "source": [
    "##Create hard data from true model\n",
    "columnsNameList = ['P1 : oil rate (m3/day)']\n",
    "#obsData= -1*np.array(time_data['P1 : oil rate (m3/day)'])\n",
    "obsValues = -1*np.array(media_function(time_range, time_data, columnsNameList))\n",
    "dObs = obsValues.T.flatten()\n",
    "dTime= np.array(time_range)\n",
    "\n",
    "CeDiag =np.array(0.001*dObs[:]) #diagonal of the covariance matrix of observed data %1 of the oil rate\n",
    "NTimesteps=len(dTime)\n",
    "NWells=1\n",
    "wells = ['P1']\n",
    "wellDObs = np.repeat(wells, NTimesteps) #Configure the wells list\n"
   ]
  },
  {
   "cell_type": "code",
   "execution_count": 14,
   "metadata": {},
   "outputs": [
    {
     "data": {
      "image/png": "[encoded data removed]",
      "text/plain": [
       "<Figure size 432x288 with 1 Axes>"
      ]
     },
     "metadata": {
      "needs_background": "light"
     },
     "output_type": "display_data"
    }
   ],
   "source": [
    "plt.plot(time_data['time'],-1*time_data['P1 : oil rate (m3/day)'])\n",
    "plt.plot(time_range[1:], dObs)\n",
    "plt.show()\n",
    "\n"
   ]
  },
  {
   "cell_type": "code",
   "execution_count": 33,
   "metadata": {},
   "outputs": [],
   "source": [
    "#create a function to run ensemble simulations based on the prior ensemble\n",
    "def RunModels(destDir, MScalar):\n",
    "    for i, mMScalar in enumerate(MScalar.T):\n",
    "        # create a model object\n",
    "        m = ModelDA(frac_aper = aperture_vec(math.degrees(mMScalar)));\n",
    "        # initialize the model\n",
    "        m.init();\n",
    "        m.params.max_ts = 10\n",
    "        # run the model\n",
    "        start = time.time()\n",
    "        m.run(time_range[-1]);\n",
    "        # get the data\n",
    "        time_data = pd.DataFrame.from_dict(m.physics.engine.time_data)\n",
    "         # write timedata to output file\n",
    "        time_data.to_pickle(f'{destDir}\\\\data_model'+str(i)+'.pkl')  \n",
    "        end = time.time()\n",
    "        print(f'Elapsed time: {end - start} for model {str(i)}')"
   ]
  },
  {
   "cell_type": "code",
   "execution_count": 36,
   "metadata": {},
   "outputs": [],
   "source": [
    "#Read the result from the model\n",
    "def ReadModels(destDir, columnsNameList, Nd, Ne):\n",
    "    D = np.empty([Nd, Ne])\n",
    "    for i in range(Ne):\n",
    "        dataSet = pd.read_pickle(f'{destDir}\\\\data_model'+str(i)+'.pkl') \n",
    "        model_value=np.array([])\n",
    "        for name in columnsNameList:\n",
    "            model_value = -1*np.array(media_function(time_range, dataSet, columnsNameList))\n",
    "        \n",
    "        d_models = model_value.T.flatten()    \n",
    "           \n",
    "        D[:,i] = d_models \n",
    "\n",
    "    return D"
   ]
  },
  {
   "cell_type": "code",
   "execution_count": 37,
   "metadata": {},
   "outputs": [],
   "source": [
    "#functions to run ES-MDA\n",
    "# Finds the truncation number - if using SVD\n",
    "def FindTruncationNumber(Sigma, csi):\n",
    "    temp = 0\n",
    "    i = 0\n",
    "    svSum = np.sum(Sigma)\n",
    "    stopValue = svSum * csi\n",
    "    for sv in np.nditer(Sigma):\n",
    "        if (temp >= stopValue):\n",
    "            break\n",
    "        temp += sv\n",
    "        i += 1\n",
    "    return i\n",
    "\n",
    "#Series of matriz treatments to make the process less memory consuming  - \n",
    "# see  Evensen, G., The Ensemble Kalman Filter: Theoretical Formulation and Practical Implementation, Ocean Dynamics (2003)\n",
    "def CentralizeMatrix(M):\n",
    "    meanMatrix = np.mean(M, axis=0)\n",
    "    return M - meanMatrix\n",
    "\n",
    "\n",
    "def UpdateModelLocalized(M, Psi, R, DobsD):\n",
    "    DeltaM = CentralizeMatrix(M)\n",
    "\n",
    "    K = DeltaM @ Psi\n",
    "    Kloc = R * K ## Kalman gain with localization \n",
    "    return M + Kloc @ DobsD \n",
    "\n",
    "def UpdateModel(M, Psi, DobsD):\n",
    "    DeltaM = CentralizeMatrix(M)\n",
    "\n",
    "    X10 = Psi @ DobsD\n",
    "    return M + DeltaM @ X10"
   ]
  },
  {
   "cell_type": "code",
   "execution_count": 38,
   "metadata": {},
   "outputs": [],
   "source": [
    "#%%\n",
    "#Calculate objetive function\n",
    "def calcDataMismatchObjectiveFunction(dObs, D, CeInv):\n",
    "    Ne = D.shape[1]\n",
    "    Nd = D.shape[0]\n",
    "\n",
    "    Od = np.empty(Ne)\n",
    "    for i in range(Ne):\n",
    "        dObsD = dObs - D[:,i].reshape(Nd,1)\n",
    "        Od[i] = (dObsD.T) @ (CeInv[:,np.newaxis] * dObsD)/2\n",
    "    return Od\n",
    "\n",
    "# Replaces the pattern with the value in array cosrresponding its position.\n",
    "# Only 1 group per line for now...\n",
    "def ReplacePattern(matchobj, array):\n",
    "    return f'{array[int(matchobj.group(1))]:.2f}'"
   ]
  },
  {
   "cell_type": "code",
   "execution_count": 39,
   "metadata": {},
   "outputs": [],
   "source": [
    "#Building the prior ensemble based only on frac_aper \n",
    "# problem dimensions\n",
    "#Ni = m_true.nx\n",
    "#Nj = m_true.ny\n",
    "NGrid = 0 # Ni * Nj\n",
    "NScalar = 1 #we just considering one scalar as the parameter in the problem\n",
    "Nm = NGrid + NScalar\n",
    "Nd = len(dObs)* 1 #  timesteps * 1 well data\n",
    "Ne = 3\n",
    "NTimesteps = len(dTime)\n",
    "NWells = 1 #we just considering one well\n",
    "\n",
    "# svd truncation parameter for SVD \n",
    "csi = 0.99"
   ]
  },
  {
   "cell_type": "code",
   "execution_count": 52,
   "metadata": {},
   "outputs": [
    {
     "name": "stdout",
     "output_type": "stream",
     "text": [
      "\n",
      "\n",
      "\n"
     ]
    },
    {
     "data": {
      "image/png": "[encoded data removed]",
      "text/plain": [
       "<Figure size 432x288 with 1 Axes>"
      ]
     },
     "metadata": {
      "needs_background": "light"
     },
     "output_type": "display_data"
    },
    {
     "data": {
      "text/plain": [
       "'c:\\\\Users\\\\bgy3\\\\OneDrive - PETROBRAS\\\\Documents\\\\PhD\\\\08.Simple-Fracture-Model-DARTS\\\\DA-DARTS-Naturally-Fractured-Reservoir-1'"
      ]
     },
     "execution_count": 52,
     "metadata": {},
     "output_type": "execute_result"
    }
   ],
   "source": [
    "#%%\n",
    "#Generate the prior ensemble of scalar parameters\n",
    "angle_ensemble = np.clip(np.random.normal(30/math.pi, 10/math.pi, Ne),0/math.pi,90/math.pi)\n",
    "Em_frac_aper=[]\n",
    "for i, angle in enumerate(angle_ensemble):\n",
    "    Em_frac_aper.append(aperture_vec(math.degrees(angle)))\n",
    "\n",
    "\n",
    "\n",
    "# data colums\n",
    "columnsNameList = ['P1 : oil rate (m3/day)']\n",
    "\n",
    "MScalarPrior = angle_ensemble\n",
    "#print MScalarPrioir histogram\n",
    "\n",
    "plt.hist(MScalarPrior, bins=100)\n",
    "plt.show()\n",
    "#%%\n",
    "curDir = os.getcwd()\n",
    "srcDir =  f'{curDir}'\n",
    "srcDir"
   ]
  },
  {
   "cell_type": "code",
   "execution_count": 54,
   "metadata": {},
   "outputs": [
    {
     "data": {
      "text/plain": [
       "[30650.013489368677, 16112.01649528033, 42039.902293569845]"
      ]
     },
     "execution_count": 54,
     "metadata": {},
     "output_type": "execute_result"
    }
   ],
   "source": [
    "convert = lambda x : math.degrees(x)\n",
    "MScalarPrior = list(map(convert, MScalarPrior))\n",
    "MScalarPrior"
   ]
  },
  {
   "cell_type": "code",
   "execution_count": 23,
   "metadata": {},
   "outputs": [
    {
     "name": "stdout",
     "output_type": "stream",
     "text": [
      "\n",
      "darts-package built on 27/03/2022 15:20:27 by SRV950$@SRV950 from d89b1a8\n",
      "\n",
      "Elapsed time: 2.0903384685516357 for model 0\n",
      "\n",
      "darts-package built on 27/03/2022 15:20:27 by SRV950$@SRV950 from d89b1a8\n",
      "\n",
      "Elapsed time: 2.086143970489502 for model 1\n",
      "\n",
      "darts-package built on 27/03/2022 15:20:27 by SRV950$@SRV950 from d89b1a8\n",
      "\n",
      "Elapsed time: 1.872901201248169 for model 2\n",
      "0\n",
      "64.43088063207358\n",
      "1\n",
      "61.956151326690815\n",
      "2\n",
      "62.71440336090564\n",
      "\n",
      "darts-package built on 27/03/2022 15:20:27 by SRV950$@SRV950 from d89b1a8\n",
      "\n",
      "Elapsed time: 1.7688398361206055 for model 0\n",
      "\n",
      "darts-package built on 27/03/2022 15:20:27 by SRV950$@SRV950 from d89b1a8\n",
      "\n",
      "Elapsed time: 1.8256564140319824 for model 1\n",
      "\n",
      "darts-package built on 27/03/2022 15:20:27 by SRV950$@SRV950 from d89b1a8\n",
      "\n",
      "Elapsed time: 1.8640236854553223 for model 2\n",
      "0\n",
      "47.2018221709734\n",
      "1\n",
      "47.106904386496716\n",
      "2\n",
      "47.12356866912221\n",
      "\n",
      "darts-package built on 27/03/2022 15:20:27 by SRV950$@SRV950 from d89b1a8\n",
      "\n",
      "Elapsed time: 2.0161030292510986 for model 0\n",
      "\n",
      "darts-package built on 27/03/2022 15:20:27 by SRV950$@SRV950 from d89b1a8\n",
      "\n",
      "Elapsed time: 2.0844905376434326 for model 1\n",
      "\n",
      "darts-package built on 27/03/2022 15:20:27 by SRV950$@SRV950 from d89b1a8\n",
      "\n",
      "Elapsed time: 2.179720640182495 for model 2\n",
      "0\n",
      "47.11946328172758\n",
      "1\n",
      "47.029451198138545\n",
      "2\n",
      "47.042921710004954\n",
      "\n",
      "darts-package built on 27/03/2022 15:20:27 by SRV950$@SRV950 from d89b1a8\n",
      "\n",
      "Elapsed time: 2.0250725746154785 for model 0\n",
      "\n",
      "darts-package built on 27/03/2022 15:20:27 by SRV950$@SRV950 from d89b1a8\n",
      "\n",
      "Elapsed time: 2.210153579711914 for model 1\n",
      "\n",
      "darts-package built on 27/03/2022 15:20:27 by SRV950$@SRV950 from d89b1a8\n",
      "\n",
      "Elapsed time: 2.1330249309539795 for model 2\n",
      "0\n",
      "47.048859225888435\n",
      "1\n",
      "46.96365631483499\n",
      "2\n",
      "46.97602904094547\n"
     ]
    }
   ],
   "source": [
    "# %%\n",
    "#Run ES-MDA\n",
    "SDiag = np.sqrt(CeDiag)\n",
    "SInvDiag = np.power(SDiag, -1)\n",
    "\n",
    "INd = np.eye(Nd)\n",
    "\n",
    "MGrid = [] #not considering grid parameters\n",
    "MScalar = MScalarPrior\n",
    "\n",
    "alphas = [4., 4., 4., 4.]\n",
    "l = 0\n",
    "for alpha in alphas:\n",
    "    # 2. Forecast\n",
    "\n",
    "    # Generates the perturbed observations \n",
    "    z = np.random.normal(size=(Nd,Ne))\n",
    "    DPObs = dObs[:,np.newaxis] + math.sqrt(alpha) * CeDiag[:,np.newaxis] * z\n",
    "\n",
    "    # Run the simulations g(M) \n",
    "    destDir = f'{curDir}\\\\simulations_deadoil_angle\\\\it{l}'\n",
    "    RunModels(destDir, MScalar)\n",
    "    D = ReadModels(destDir, columnsNameList, Nd, Ne)\n",
    "    if (l == 0):\n",
    "        DPrior = D\n",
    "\n",
    "    DobsD = DPObs - D\n",
    "\n",
    "    # 4. Analysis\n",
    "    # 4.1 Invert matrix C\n",
    "\n",
    "    # Calculates DeltaD (12.5)\n",
    "    meanMatrix = np.mean(D, axis=1)\n",
    "    DeltaD = D - meanMatrix[:,np.newaxis]\n",
    "\n",
    "    # Calculates CHat (12.10)\n",
    "    CHat = SInvDiag[:,np.newaxis] * ( DeltaD @ DeltaD.T ) * SInvDiag[np.newaxis,:] + alpha * (Ne - 1) * INd\n",
    "\n",
    "    # Calculates Gamma and X (12.18)\n",
    "    U, SigmaDiag, Vt = np.linalg.svd(CHat)\n",
    "    Nr = FindTruncationNumber(SigmaDiag, csi)\n",
    "\n",
    "    GammaDiag = np.power(SigmaDiag[0:Nr], -1)\n",
    "    X = SInvDiag[:,np.newaxis] * U[:,0:Nr]\n",
    "\n",
    "    # Calculates M^a (12.21)\n",
    "    X1 = GammaDiag[:,np.newaxis] * X.T\n",
    "    X8 = DeltaD.T @ X\n",
    "    X9 = X8 @ X1\n",
    "    \n",
    "    # subpart: for grid, use localization\n",
    "    #MGrid = UpdateModelLocalized(MGrid, X9, Rmd, DobsD)\n",
    "\n",
    "    # subpart: for scalars, don't use localization\n",
    "    \n",
    "    MScalar = UpdateModel(MScalar, X9, DobsD)\n",
    "    MScalar[:] = np.clip(MScalar[:], 0,90)\n",
    "    for i, mMScalar in enumerate(MScalar):\n",
    "     print(i)\n",
    "     print(mMScalar)\n",
    "   \n",
    "    l += 1\n",
    "#%%\n",
    "#MGridPost = MGrid\n",
    "MScalarPost = MScalar\n",
    "DPost = D\n",
    "\n"
   ]
  },
  {
   "cell_type": "code",
   "execution_count": 24,
   "metadata": {},
   "outputs": [
    {
     "data": {
      "text/plain": [
       "'c:\\\\Users\\\\bgy3\\\\OneDrive - PETROBRAS\\\\Documents\\\\PhD\\\\08.Simple-Fracture-Model-DARTS\\\\DA-DARTS-Naturally-Fractured-Reservoir-1\\\\simulations_deadoil_angle\\\\it3'"
      ]
     },
     "execution_count": 24,
     "metadata": {},
     "output_type": "execute_result"
    }
   ],
   "source": [
    "destDir"
   ]
  },
  {
   "cell_type": "code",
   "execution_count": 25,
   "metadata": {},
   "outputs": [
    {
     "name": "stdout",
     "output_type": "stream",
     "text": [
      "Mean: prior=5.561e+03, post=5.850e+02\n",
      "Std: prior=8.604e+03, post=5.736e+00\n"
     ]
    },
    {
     "data": {
      "text/plain": [
       "Text(0.5, 1.0, 'Histograms Objetive Functions')"
      ]
     },
     "execution_count": 25,
     "metadata": {},
     "output_type": "execute_result"
    },
    {
     "data": {
      "image/png": "[encoded data removed]",
      "text/plain": [
       "<Figure size 432x288 with 1 Axes>"
      ]
     },
     "metadata": {
      "needs_background": "light"
     },
     "output_type": "display_data"
    }
   ],
   "source": [
    "#%%\n",
    "# Comparison of data mismatch objective function\n",
    "# prior (l = 0)\n",
    "CeInv = np.power(CeDiag, -1)\n",
    "OPrior = calcDataMismatchObjectiveFunction(dObs[:,np.newaxis], DPrior, CeInv)\n",
    "OPost = calcDataMismatchObjectiveFunction(dObs[:,np.newaxis], DPost, CeInv)\n",
    "\n",
    "print(f'Mean: prior={np.mean(OPrior):.3e}, post={np.mean(OPost):.3e}')\n",
    "print(f'Std: prior={np.std(OPrior, ddof=1):.3e}, post={np.std(OPost, ddof=1):.3e}')\n",
    "\n",
    "fig, ax = plt.subplots()#plt.subplots(figsize=(Ne,Ne))\n",
    "colors=['red','green']\n",
    "x = np.stack((OPrior, OPost), axis=1)\n",
    "#ax.hist(x, bins=40, alpha=0.8, color=colors, range=(x.min(),1e7))\n",
    "ax.hist(x, bins=50, alpha=0.8, color=colors)\n",
    "ax.set_title('Histograms Objetive Functions')"
   ]
  },
  {
   "cell_type": "code",
   "execution_count": 30,
   "metadata": {},
   "outputs": [
    {
     "name": "stdout",
     "output_type": "stream",
     "text": [
      "Mean: prior=3.043e+01, post=4.700e+01\n",
      "Std: prior=1.973e+01, post=4.604e-02\n"
     ]
    },
    {
     "data": {
      "text/plain": [
       "Text(0.5, 1.0, 'Histograms angles before and after history matching')"
      ]
     },
     "execution_count": 30,
     "metadata": {},
     "output_type": "execute_result"
    },
    {
     "data": {
      "image/png": "[encoded data removed]",
      "text/plain": [
       "<Figure size 432x288 with 1 Axes>"
      ]
     },
     "metadata": {
      "needs_background": "light"
     },
     "output_type": "display_data"
    }
   ],
   "source": [
    "#Compare  the histograms of frac_aper prior and post\n",
    "\n",
    "print(f'Mean: prior={np.mean(MScalarPrior):.3e}, post={np.mean(MScalarPost):.3e}')\n",
    "print(f'Std: prior={np.std(MScalarPrior, ddof=1):.3e}, post={np.std(MScalarPost, ddof=1):.3e}')\n",
    "\n",
    "\n",
    "fig, ax = plt.subplots()#plt.subplots(figsize=(Ne,Ne))\n",
    "colors=['red','green']\n",
    "x = np.stack((MScalarPrior, MScalarPost), axis=1)\n",
    "#ax.hist(x, bins=40, alpha=0.8, color=colors, range=(x.min(),1e7))\n",
    "ax.hist(x, bins=50, alpha=0.8, color=colors)\n",
    "ax.set_title('Histograms angles before and after history matching')\n",
    "\n"
   ]
  },
  {
   "cell_type": "code",
   "execution_count": 29,
   "metadata": {},
   "outputs": [
    {
     "ename": "IndexError",
     "evalue": "list index out of range",
     "output_type": "error",
     "traceback": [
      "\u001b[1;31m---------------------------------------------------------------------------\u001b[0m",
      "\u001b[1;31mIndexError\u001b[0m                                Traceback (most recent call last)",
      "\u001b[1;32m<ipython-input-29-dddc6082f38f>\u001b[0m in \u001b[0;36m<module>\u001b[1;34m\u001b[0m\n\u001b[0;32m     30\u001b[0m \u001b[1;33m\u001b[0m\u001b[0m\n\u001b[0;32m     31\u001b[0m \u001b[1;33m\u001b[0m\u001b[0m\n\u001b[1;32m---> 32\u001b[1;33m \u001b[0maxFlat\u001b[0m\u001b[1;33m[\u001b[0m\u001b[1;36m1\u001b[0m\u001b[1;33m]\u001b[0m\u001b[1;33m.\u001b[0m\u001b[0mplot\u001b[0m\u001b[1;33m(\u001b[0m\u001b[0mtimeMonths\u001b[0m\u001b[1;33m,\u001b[0m \u001b[0mprior\u001b[0m\u001b[1;33m[\u001b[0m\u001b[1;36m1\u001b[0m\u001b[1;33m]\u001b[0m\u001b[1;33m,\u001b[0m \u001b[0mcolor\u001b[0m\u001b[1;33m=\u001b[0m\u001b[1;34m'#00FFFF'\u001b[0m\u001b[1;33m,\u001b[0m \u001b[0malpha\u001b[0m\u001b[1;33m=\u001b[0m\u001b[1;36m0.3\u001b[0m\u001b[1;33m)\u001b[0m\u001b[1;33m\u001b[0m\u001b[1;33m\u001b[0m\u001b[0m\n\u001b[0m\u001b[0;32m     33\u001b[0m \u001b[0maxFlat\u001b[0m\u001b[1;33m[\u001b[0m\u001b[1;36m1\u001b[0m\u001b[1;33m]\u001b[0m\u001b[1;33m.\u001b[0m\u001b[0mplot\u001b[0m\u001b[1;33m(\u001b[0m\u001b[0mtimeMonths\u001b[0m\u001b[1;33m,\u001b[0m \u001b[0mpost\u001b[0m\u001b[1;33m[\u001b[0m\u001b[1;36m1\u001b[0m\u001b[1;33m]\u001b[0m\u001b[1;33m,\u001b[0m \u001b[0mcolor\u001b[0m\u001b[1;33m=\u001b[0m\u001b[1;34m'b'\u001b[0m\u001b[1;33m,\u001b[0m \u001b[0malpha\u001b[0m\u001b[1;33m=\u001b[0m\u001b[1;36m0.3\u001b[0m\u001b[1;33m)\u001b[0m\u001b[1;33m\u001b[0m\u001b[1;33m\u001b[0m\u001b[0m\n\u001b[0;32m     34\u001b[0m \u001b[0maxFlat\u001b[0m\u001b[1;33m[\u001b[0m\u001b[1;36m1\u001b[0m\u001b[1;33m]\u001b[0m\u001b[1;33m.\u001b[0m\u001b[0mscatter\u001b[0m\u001b[1;33m(\u001b[0m\u001b[0mtimeMonths\u001b[0m\u001b[1;33m,\u001b[0m \u001b[0mplotObsData\u001b[0m\u001b[1;33m[\u001b[0m\u001b[1;36m1\u001b[0m\u001b[1;33m]\u001b[0m\u001b[1;33m,\u001b[0m\u001b[0mcolor\u001b[0m\u001b[1;33m=\u001b[0m\u001b[1;34m'red'\u001b[0m\u001b[1;33m,\u001b[0m \u001b[0malpha\u001b[0m\u001b[1;33m=\u001b[0m\u001b[1;36m0.5\u001b[0m\u001b[1;33m)\u001b[0m\u001b[1;33m\u001b[0m\u001b[1;33m\u001b[0m\u001b[0m\n",
      "\u001b[1;31mIndexError\u001b[0m: list index out of range"
     ]
    },
    {
     "data": {
      "image/png": "[encoded data removed]",
      "text/plain": [
       "<Figure size 1800x576 with 2 Axes>"
      ]
     },
     "metadata": {
      "needs_background": "light"
     },
     "output_type": "display_data"
    }
   ],
   "source": [
    "#%%\n",
    "# Split the data into data array\n",
    "wellDataPriorArray = np.split(DPrior, NWells)\n",
    "wellDataPostArray = np.split(DPost, NWells)\n",
    "wellDataObsArray = np.split(dObs, NWells)\n",
    "wellDataObsErrorArray = np.split(CeDiag, NWells)\n",
    "\n",
    "wellSubtitle = ['P1']\n",
    "timeMonths = time_range[1:]/30.0\n",
    "\n",
    "\n",
    "# get data and store in an array\n",
    "prior = wellDataPriorArray # wellDataPriorArray[0:11:2]\n",
    "post = wellDataPostArray # wellDataPostArray[0:11:2]\n",
    "plotObsData = wellDataObsArray #wellDataObsArray[0:11:2]\n",
    "errObsData = wellDataObsErrorArray #wellDataObsErrorArray[0:11:2]\n",
    "\n",
    "fig, ax = plt.subplots(nrows=1, ncols=2, figsize=(25,8))\n",
    "axFlat = ax.flatten()\n",
    "\n",
    "axFlat[0].set_facecolor('white')\n",
    "axFlat[0].plot(timeMonths, prior[0], color='#00FFFF', alpha=0.3)\n",
    "axFlat[0].plot(timeMonths, post[0], color='b', alpha=0.3)\n",
    "axFlat[0].errorbar(timeMonths, plotObsData[0], yerr=errObsData[0], fmt='_ r', capthick=1, capsize=0.1)\n",
    "#axFlat[0].plot(timeMonths, plotObsData[i],color='red', alpha=0.5)\n",
    "axFlat[0].set_title(wellSubtitle[0])\n",
    "axFlat[0].set_xlabel('Time (months)')\n",
    "axFlat[0].set_ylabel('oil rate (m3/day)')\n",
    "axFlat[0].set_ylim([0, 100])\n",
    "\n",
    "\n",
    "axFlat[1].plot(timeMonths, prior[1], color='#00FFFF', alpha=0.3)\n",
    "axFlat[1].plot(timeMonths, post[1], color='b', alpha=0.3)\n",
    "axFlat[1].scatter(timeMonths, plotObsData[1],color='red', alpha=0.5)\n",
    "axFlat[1].set_title(wellSubtitle[0])\n",
    "axFlat[1].set_xlabel('Time (months)')\n",
    "axFlat[1].set_ylabel('oil rate (m3/day)')\n",
    "#axFlat[1].set_ylim([342, 348])\n",
    "fig.suptitle('P1 : oil rate (m3/day)')\n"
   ]
  },
  {
   "cell_type": "code",
   "execution_count": 1,
   "metadata": {},
   "outputs": [
    {
     "name": "stderr",
     "output_type": "stream",
     "text": [
      "[NbConvertApp] Converting notebook mainDA_explained.ipynb to html\n",
      "[NbConvertApp] Writing 701465 bytes to mainDA_explained.html\n"
     ]
    }
   ],
   "source": [
    "!jupyter nbconvert --to html mainDA_explained.ipynb"
   ]
  },
  {
   "cell_type": "markdown",
   "metadata": {},
   "source": [
    "Evaluating the Water Rate Results"
   ]
  },
  {
   "cell_type": "code",
   "execution_count": 155,
   "metadata": {},
   "outputs": [],
   "source": [
    "vazao = ['P1 : water rate (m3/day)']\n",
    "#Read the result of the posterior\n",
    "D_qw = ReadModels(destDir, vazao, Nd, Ne)*(-1)\n",
    "#Read the result of the prior\n",
    "Prior = 20\n",
    "D_qw_prior = ReadModels('simulations\\it0', vazao, Nd, Prior)*(-1)\n",
    "\n",
    "#Read the reference data \n",
    "obsData_qw= np.array(time_data['P1 : water rate (m3/day)'])\n",
    "obsValues_qw = np.array(obsData_qw)*(-1)\n",
    "dObs_qw = obsValues_qw.T.flatten()\n",
    "CeDiag_qw =np.array(0.001*dObs_qw[:]) #diagonal of the covariance matrix of observed data %1 of the water rate\n",
    "\n"
   ]
  },
  {
   "cell_type": "code",
   "execution_count": 162,
   "metadata": {},
   "outputs": [
    {
     "data": {
      "text/plain": [
       "Text(0.5, 0.98, 'P1 : water rate (m3/day)')"
      ]
     },
     "execution_count": 162,
     "metadata": {},
     "output_type": "execute_result"
    },
    {
     "data": {
      "image/png": "[encoded data removed]",
      "text/plain": [
       "<Figure size 1800x576 with 2 Axes>"
      ]
     },
     "metadata": {
      "needs_background": "light"
     },
     "output_type": "display_data"
    }
   ],
   "source": [
    "#%%\n",
    "# Split the data into data array\n",
    "wellDataPriorArray = np.split(D_qw_prior, NWells)\n",
    "wellDataPostArray = np.split(D_qw, NWells)\n",
    "wellDataObsArray = np.split(dObs_qw, NWells)\n",
    "wellDataObsErrorArray = np.split(CeDiag_qw, NWells)\n",
    "\n",
    "wellSubtitle = ['P1']\n",
    "timeMonths = dTime/30.0\n",
    "\n",
    "\n",
    "# get data and store in an array\n",
    "prior = wellDataPriorArray # wellDataPriorArray[0:11:2]\n",
    "post = wellDataPostArray # wellDataPostArray[0:11:2]\n",
    "plotObsData = wellDataObsArray #wellDataObsArray[0:11:2]\n",
    "errObsData = wellDataObsErrorArray #wellDataObsErrorArray[0:11:2]\n",
    "\n",
    "fig, ax = plt.subplots(nrows=1, ncols=2, figsize=(25,8))\n",
    "axFlat = ax.flatten()\n",
    "\n",
    "axFlat[0].set_facecolor('white')\n",
    "axFlat[0].plot(timeMonths, prior[0], color='#00FFFF', alpha=0.3)\n",
    "axFlat[0].plot(timeMonths, post[0], color='b', alpha=0.3)\n",
    "axFlat[0].errorbar(timeMonths, plotObsData[0], yerr=errObsData[i], fmt='_ r', capthick=1, capsize=4)\n",
    "#axFlat[0].plot(timeMonths, plotObsData[i],color='red', alpha=0.5)\n",
    "axFlat[0].set_title(wellSubtitle[0])\n",
    "axFlat[0].set_xlabel('Time (months)')\n",
    "axFlat[0].set_ylabel('Water Rate (m3/day)')\n",
    "axFlat[0].set_ylim([0, 3500])\n",
    "\n",
    "axFlat[1].plot(timeMonths, prior[0], color='#00FFFF', alpha=0.3)\n",
    "axFlat[1].plot(timeMonths, post[0], color='b', alpha=0.3)\n",
    "axFlat[1].scatter(timeMonths, plotObsData[0],color='red', alpha=0.5)\n",
    "axFlat[1].set_title(wellSubtitle[0])\n",
    "axFlat[1].set_xlabel('Time (months)')\n",
    "axFlat[1].set_ylabel('Water Rate (m3/day)')\n",
    "axFlat[1].set_ylim([0, 3500])\n",
    "fig.suptitle('P1 : water rate (m3/day)')\n",
    "\n"
   ]
  },
  {
   "cell_type": "code",
   "execution_count": null,
   "metadata": {},
   "outputs": [],
   "source": []
  },
  {
   "cell_type": "code",
   "execution_count": 164,
   "metadata": {},
   "outputs": [
    {
     "name": "stdout",
     "output_type": "stream",
     "text": [
      "Mean: prior=8.654e+07, post=1.637e+04\n",
      "Std: prior=1.268e+08, post=4.385e+04\n"
     ]
    },
    {
     "data": {
      "text/plain": [
       "Text(0.5, 1.0, 'Histograms Objetive Functions for water rate')"
      ]
     },
     "execution_count": 164,
     "metadata": {},
     "output_type": "execute_result"
    },
    {
     "data": {
      "image/png": "[encoded data removed]",
      "text/plain": [
       "<Figure size 432x288 with 1 Axes>"
      ]
     },
     "metadata": {
      "needs_background": "light"
     },
     "output_type": "display_data"
    }
   ],
   "source": [
    "#%%\n",
    "# Comparison of data mismatch objective function\n",
    "CeInv_qw = np.power(CeDiag_qw, -1)\n",
    "OPrior_qw = calcDataMismatchObjectiveFunction(dObs_qw[:,np.newaxis],D_qw_prior, CeInv_qw)\n",
    "OPost_qw = calcDataMismatchObjectiveFunction(dObs_qw[:,np.newaxis],D_qw, CeInv_qw)\n",
    "print(f'Mean: prior={np.mean(OPrior_qw):.3e}, post={np.mean(OPost_qw):.3e}')\n",
    "print(f'Std: prior={np.std(OPrior_qw, ddof=1):.3e}, post={np.std(OPost_qw, ddof=1):.3e}')\n",
    "\n",
    "fig, ax = plt.subplots()#plt.subplots(figsize=(Ne,Ne))\n",
    "colors=['red','green']\n",
    "x = np.stack((OPrior_qw, OPost_qw), axis=1)\n",
    "#ax.hist(x, bins=40, alpha=0.8, color=colors, range=(x.min(),1e7))\n",
    "ax.hist(x, bins=50, alpha=0.8, color=colors)\n",
    "ax.set_title('Histograms Objetive Functions for water rate')"
   ]
  },
  {
   "cell_type": "code",
   "execution_count": null,
   "metadata": {},
   "outputs": [],
   "source": []
  }
 ],
 "metadata": {
  "kernelspec": {
   "display_name": "Python 3.8.3 ('base')",
   "language": "python",
   "name": "python3"
  },
  "language_info": {
   "codemirror_mode": {
    "name": "ipython",
    "version": 3
   },
   "file_extension": ".py",
   "mimetype": "text/x-python",
   "name": "python",
   "nbconvert_exporter": "python",
   "pygments_lexer": "ipython3",
   "version": "3.8.3"
  },
  "orig_nbformat": 4,
  "vscode": {
   "interpreter": {
    "hash": "ad2bdc8ecc057115af97d19610ffacc2b4e99fae6737bb82f5d7fb13d2f2c186"
   }
  }
 },
 "nbformat": 4,
 "nbformat_minor": 2
}
