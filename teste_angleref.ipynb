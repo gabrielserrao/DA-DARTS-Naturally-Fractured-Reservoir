{
 "cells": [
  {
   "cell_type": "code",
   "execution_count": 1,
   "metadata": {},
   "outputs": [],
   "source": [
    "#%%\n",
    "# Section of the Python code where we import all dependencies on third party Python modules/libaries or our own\n",
    "# libraries (exposed C++ code to Python, i.e. darts.engines && darts.physics)\n",
    "from model_deadoil import ModelDA\n",
    "import numpy as np\n",
    "import meshio\n",
    "from darts.engines import *\n",
    "\n",
    "import concurrent.futures\n",
    "import math\n",
    "import os\n",
    "import re\n",
    "import shutil\n",
    "import time\n",
    "\n",
    "import matplotlib.pyplot as plt\n",
    "import matplotlib.colors as colors\n",
    "import matplotlib.cm as cm\n",
    "import pandas as pd\n",
    "import scipy.stats as stats"
   ]
  },
  {
   "cell_type": "code",
   "execution_count": 3,
   "metadata": {},
   "outputs": [
    {
     "name": "stdout",
     "output_type": "stream",
     "text": [
      "\n"
     ]
    }
   ],
   "source": [
    "#%%\n",
    "#function to get an angle and output apertures \n",
    "DIR = 'mesh_files'\n",
    "scale = 15\n",
    "mesh_file = os.path.join(DIR, 'mesh_{:}_real_6.msh'.format(scale))\n",
    "mesh_data = meshio.read(mesh_file)\n",
    "num_frac = mesh_data.cells[0].data.shape[0]\n",
    "act_frac_sys = np.zeros((num_frac, 4))\n",
    "\n",
    "def aperture_vec(rotation):\n",
    "    def calc_aperture(sigma_n):\n",
    "        JRC = 7.225\n",
    "        JCS = 17.5\n",
    "        e_0 = 0.15\n",
    "        v_m = -0.1032 - 0.0074 * JRC + 1.135 * (JCS / e_0) ** -0.251\n",
    "        K_ni = -7.15 + 1.75 * JRC + 0.02 * JCS / e_0\n",
    "        return e_0 - (1 / v_m + K_ni / sigma_n) ** -1\n",
    "\n",
    "\n",
    "    DIR = 'mesh_files'\n",
    "    scale = 15\n",
    "    mesh_file = os.path.join(DIR, 'mesh_{:}_real_6.msh'.format(scale))\n",
    "    mesh_data = meshio.read(mesh_file)\n",
    "    num_frac = mesh_data.cells[0].data.shape[0]\n",
    "    act_frac_sys = np.zeros((num_frac, 4))\n",
    "\n",
    "    for ii in range(num_frac):\n",
    "        ith_line = mesh_data.points[mesh_data.cells[0].data[ii][:2]]\n",
    "        act_frac_sys[ii, :2] = ith_line[0, :2]\n",
    "        act_frac_sys[ii, 2:] = ith_line[1, :2]\n",
    "\n",
    "    # Plot to check if it worked:\n",
    "    #plt.figure()\n",
    "    #plt.plot(np.array([act_frac_sys[:, 0], act_frac_sys[:, 2]]),\n",
    "    #         np.array([act_frac_sys[:, 1], act_frac_sys[:, 3]]), color='black')\n",
    "    #plt.show()\n",
    "\n",
    "    epsilon = 1e-4\n",
    "    dx = act_frac_sys[:, 0] - act_frac_sys[:, 2] + epsilon * np.random.rand(num_frac)\n",
    "    dy = act_frac_sys[:, 1] - act_frac_sys[:, 3] + epsilon * np.random.rand(num_frac)\n",
    "    #rotation = 0\n",
    "    angles = np.arctan(dy / dx) * 180 / np.pi + rotation + epsilon * np.random.rand(num_frac)\n",
    "    sigma_H = 5\n",
    "    sigma_h = 1\n",
    "    sigma_n = (sigma_H + sigma_h) / 2 + (sigma_H + sigma_h) / 2 * np.cos(angles * np.pi / 180 * 2)\n",
    "    factor_aper = 2.5\n",
    "    fracture_aper = calc_aperture(sigma_n) * 1e-3 * factor_aper\n",
    "    fracture_aper[fracture_aper < 1e-9] = 1e-9\n",
    "    fracture_aper[fracture_aper > 0.15 * 1e-3 * factor_aper] = 0.15 * 1e-3 * factor_aper\n",
    "\n",
    "    m_to_mm = 1e3\n",
    "    min_aper = 1e-9 * m_to_mm\n",
    "    max_aper = 0.15 * 1e-3 * factor_aper * m_to_mm\n",
    "    fracs = fracture_aper * m_to_mm\n",
    "    fracs[fracs < min_aper] = min_aper\n",
    "    fracs[fracs > max_aper] = max_aper\n",
    "    #norm = colors.Normalize(min_aper, max_aper)\n",
    "    #colors_aper = cm.viridis(norm(fracs))\n",
    "    #cutoff_value = min_aper\n",
    "\n",
    "    #comement lines below\n",
    "    #fig, ax = plt.subplots(1, 1, figsize=(10, 10), dpi=400, facecolor='w', edgecolor='k')\n",
    "    #for ii in range(len(fracs)):\n",
    "    #    if fracs[ii] >= cutoff_value:\n",
    "    #        ax.plot(np.array([act_frac_sys[ii, 0], act_frac_sys[ii, 2]]),\n",
    "    #                np.array([act_frac_sys[ii, 1], act_frac_sys[ii, 3]]),\n",
    "    #                 color=colors_aper[ii, :-1])\n",
    "\n",
    "    #ax.axis('equal')\n",
    "\n",
    "    #for tick in ax.xaxis.get_major_ticks():\n",
    "    #    tick.label.set_fontsize(14)\n",
    "    #for tick in ax.yaxis.get_major_ticks():\n",
    "    #    tick.label.set_fontsize(14)\n",
    "\n",
    "    #sm = plt.cm.ScalarMappable(cmap=cm.viridis, norm=norm)\n",
    "    #sm._A = []\n",
    "    #cbar = plt.colorbar(sm)\n",
    "    #cbar.set_label(r'Aperture, $a$ [mm]')\n",
    "\n",
    "    #plt.tight_layout()\n",
    "    #plt.savefig(\"variable_aperture_base_case_scale_{:}.pdf\".format(scale))\n",
    "    #plt.show()\n",
    "    return np.array(fracture_aper)\n",
    "\n"
   ]
  },
  {
   "cell_type": "code",
   "execution_count": 3,
   "metadata": {},
   "outputs": [
    {
     "name": "stdout",
     "output_type": "stream",
     "text": [
      "\n"
     ]
    },
    {
     "data": {
      "text/plain": [
       "(1370,)"
      ]
     },
     "execution_count": 3,
     "metadata": {},
     "output_type": "execute_result"
    }
   ],
   "source": [
    "aperture_vec(90).shape"
   ]
  },
  {
   "cell_type": "code",
   "execution_count": 4,
   "metadata": {},
   "outputs": [
    {
     "name": "stdout",
     "output_type": "stream",
     "text": [
      "\n",
      "\n",
      "\n"
     ]
    },
    {
     "data": {
      "image/png": "[encoded data removed]",
      "text/plain": [
       "<Figure size 432x288 with 1 Axes>"
      ]
     },
     "metadata": {
      "needs_background": "light"
     },
     "output_type": "display_data"
    }
   ],
   "source": [
    "#%%\n",
    "#First we define the model that will be used as refference with a 8138 distribution of fracture appertures - np.array with 8138 elements distributed from a uniform distribution\n",
    "angle_ref = 0 #degress\n",
    "NFractures = aperture_vec(angle_ref).shape[0]\n",
    "frac_aper_het =  np.zeros(NFractures)\n",
    "frac_aper_het = aperture_vec(angle_ref) #np.clip(np.random.normal(1e-3, 0.1*(1e-3), NFractures),0.0005,0.0015)\n",
    "plt.hist(frac_aper_het, bins=200)\n",
    "plt.title(f'{aperture_vec(angle_ref).shape[0]} fracture appertures for the refrence model with {angle_ref} degrees')\n",
    "plt.show()"
   ]
  },
  {
   "cell_type": "code",
   "execution_count": 5,
   "metadata": {},
   "outputs": [
    {
     "name": "stdout",
     "output_type": "stream",
     "text": [
      "\n",
      "darts-package built on 27/03/2022 15:20:27 by SRV950$@SRV950 from d89b1a8\n",
      "\n"
     ]
    }
   ],
   "source": [
    "#%%\n",
    "#First we define the model that will be used as refference frac_aper = = 1e-3 (base case produced by Stephan)\n",
    "# \n",
    "m_true0 = ModelDA(frac_aper =aperture_vec(0))\n",
    "time_range = np.arange(0,100, 10)+1\n",
    "# After constructing the model, the simulator needs to be initialized. The init() class method is called, which is\n",
    "# inherited (https://www.python-course.eu/python3_inheritance.php) from the parent class DartsModel (found in\n",
    "# darts/models/darts_model.py (NOTE: This is not the same as the__init__(self, **) method which each class (should)\n",
    "# have).\n",
    "\n",
    "m_true0.init()\n",
    "# Specify some other time-related properties (NOTE: all time parameters are in [days])\n",
    "m_true0.params.max_ts = 1  # Adjust the maximum time-step as desired (this is overwriting the max_ts specified in model.py)\n",
    "m_true0.run(time_range[-1])"
   ]
  },
  {
   "cell_type": "code",
   "execution_count": 17,
   "metadata": {},
   "outputs": [
    {
     "name": "stdout",
     "output_type": "stream",
     "text": [
      "Writing data to VTK file for 0-th reporting step\n"
     ]
    },
    {
     "data": {
      "text/plain": [
       "0"
      ]
     },
     "execution_count": 17,
     "metadata": {},
     "output_type": "execute_result"
    }
   ],
   "source": [
    "# Properties for writing to vtk format:\n",
    "# output_directory = 'trial_dir'  # Specify output directory here\n",
    "output_directory = 'test_folder'\n",
    "num_wells_tot = 2  # Specify here how much wells are being used\n",
    "# Specify here the number of properties you want to extract (properties are based on selected physics, see model):\n",
    "tot_properties = 2\n",
    "\n",
    "# Calculate the size of the properties vector:\n",
    "tot_unknws = m_true0.reservoir.unstr_discr.fracture_cell_count + m_true0.reservoir.unstr_discr.matrix_cell_count + num_wells_tot*2\n",
    "\n",
    "\n",
    "# Allocate and store the properties in an array:\n",
    "property_array = np.empty((tot_unknws, tot_properties))\n",
    "property_array[:, 0] = m_true0.physics.engine.X[:-1:2]\n",
    "property_array[:, 1] = m_true0.physics.engine.X[1::2]\n",
    "\n",
    "# Write to vtk using class methods of unstructured discretizer (uses within meshio write to vtk function):\n",
    "m_true0.reservoir.unstr_discr.write_to_vtk(output_directory, property_array, m_true0.cell_property, 0)\n"
   ]
  },
  {
   "cell_type": "code",
   "execution_count": 6,
   "metadata": {},
   "outputs": [
    {
     "name": "stdout",
     "output_type": "stream",
     "text": [
      "\n",
      "darts-package built on 27/03/2022 15:20:27 by SRV950$@SRV950 from d89b1a8\n",
      "\n"
     ]
    }
   ],
   "source": [
    "#%%\n",
    "#First we define the model that will be used as refference frac_aper = = 1e-3 (base case produced by Stephan)\n",
    "# \n",
    "m_true90 = ModelDA(frac_aper =aperture_vec(90))\n",
    "time_range = np.arange(0,100, 10)+1\n",
    "# After constructing the model, the simulator needs to be initialized. The init() class method is called, which is\n",
    "# inherited (https://www.python-course.eu/python3_inheritance.php) from the parent class DartsModel (found in\n",
    "# darts/models/darts_model.py (NOTE: This is not the same as the__init__(self, **) method which each class (should)\n",
    "# have).\n",
    "\n",
    "m_true90.init()\n",
    "# Specify some other time-related properties (NOTE: all time parameters are in [days])\n",
    "m_true90.params.max_ts = 1  # Adjust the maximum time-step as desired (this is overwriting the max_ts specified in model.py)\n",
    "m_true90.run(time_range[-1])"
   ]
  },
  {
   "cell_type": "code",
   "execution_count": 18,
   "metadata": {},
   "outputs": [
    {
     "name": "stdout",
     "output_type": "stream",
     "text": [
      "Writing data to VTK file for 0-th reporting step\n"
     ]
    },
    {
     "data": {
      "text/plain": [
       "0"
      ]
     },
     "execution_count": 18,
     "metadata": {},
     "output_type": "execute_result"
    }
   ],
   "source": [
    "# Properties for writing to vtk format:\n",
    "# output_directory = 'trial_dir'  # Specify output directory here\n",
    "output_directory = 'test_folder90'\n",
    "num_wells_tot = 2  # Specify here how much wells are being used\n",
    "# Specify here the number of properties you want to extract (properties are based on selected physics, see model):\n",
    "tot_properties = 2\n",
    "\n",
    "# Calculate the size of the properties vector:\n",
    "tot_unknws = m_true90.reservoir.unstr_discr.fracture_cell_count + m_true90.reservoir.unstr_discr.matrix_cell_count + num_wells_tot*2\n",
    "\n",
    "\n",
    "# Allocate and store the properties in an array:\n",
    "property_array = np.empty((tot_unknws, tot_properties))\n",
    "property_array[:, 0] = m_true90.physics.engine.X[:-1:2]\n",
    "property_array[:, 1] = m_true90.physics.engine.X[1::2]\n",
    "\n",
    "# Write to vtk using class methods of unstructured discretizer (uses within meshio write to vtk function):\n",
    "m_true90.reservoir.unstr_discr.write_to_vtk(output_directory, property_array, m_true90.cell_property, 0)"
   ]
  },
  {
   "cell_type": "code",
   "execution_count": 7,
   "metadata": {},
   "outputs": [
    {
     "name": "stdout",
     "output_type": "stream",
     "text": [
      "\n",
      "darts-package built on 27/03/2022 15:20:27 by SRV950$@SRV950 from d89b1a8\n",
      "\n"
     ]
    }
   ],
   "source": [
    "#%%\n",
    "#First we define the model that will be used as refference frac_aper = = 1e-3 (base case produced by Stephan)\n",
    "# \n",
    "m_true45 = ModelDA(frac_aper =aperture_vec(45))\n",
    "time_range = np.arange(0,100, 10)+1\n",
    "# After constructing the model, the simulator needs to be initialized. The init() class method is called, which is\n",
    "# inherited (https://www.python-course.eu/python3_inheritance.php) from the parent class DartsModel (found in\n",
    "# darts/models/darts_model.py (NOTE: This is not the same as the__init__(self, **) method which each class (should)\n",
    "# have).\n",
    "\n",
    "m_true45.init()\n",
    "# Specify some other time-related properties (NOTE: all time parameters are in [days])\n",
    "m_true45.params.max_ts = 1  # Adjust the maximum time-step as desired (this is overwriting the max_ts specified in model.py)\n",
    "m_true45.run(time_range[-1])"
   ]
  },
  {
   "cell_type": "code",
   "execution_count": 19,
   "metadata": {},
   "outputs": [
    {
     "name": "stdout",
     "output_type": "stream",
     "text": [
      "Writing data to VTK file for 0-th reporting step\n"
     ]
    },
    {
     "data": {
      "text/plain": [
       "0"
      ]
     },
     "execution_count": 19,
     "metadata": {},
     "output_type": "execute_result"
    }
   ],
   "source": [
    "# Properties for writing to vtk format:\n",
    "# output_directory = 'trial_dir'  # Specify output directory here\n",
    "output_directory = 'test_folder45'\n",
    "num_wells_tot = 2  # Specify here how much wells are being used\n",
    "# Specify here the number of properties you want to extract (properties are based on selected physics, see model):\n",
    "tot_properties = 3\n",
    "\n",
    "# Calculate the size of the properties vector:\n",
    "tot_unknws = m_true45.reservoir.unstr_discr.fracture_cell_count + m_true45.reservoir.unstr_discr.matrix_cell_count + num_wells_tot*2\n",
    "\n",
    "\n",
    "# Allocate and store the properties in an array:\n",
    "property_array = np.empty((tot_unknws, tot_properties))\n",
    "property_array[:, 0] = m_true45.physics.engine.X[:-1:2]\n",
    "property_array[:, 1] = m_true45.physics.engine.X[1::2]\n",
    "property_array[:, 2] = m_true45.\n",
    "\n",
    "\n",
    "# Write to vtk using class methods of unstructured discretizer (uses within meshio write to vtk function):\n",
    "m_true45.reservoir.unstr_discr.write_to_vtk(output_directory, property_array, m_true45.cell_property, 0)"
   ]
  },
  {
   "cell_type": "code",
   "execution_count": 8,
   "metadata": {},
   "outputs": [],
   "source": [
    "time_data0 = pd.DataFrame.from_dict(m_true0.physics.engine.time_data)\n",
    "time_data45 = pd.DataFrame.from_dict(m_true45.physics.engine.time_data)\n",
    "time_data90 = pd.DataFrame.from_dict(m_true90.physics.engine.time_data)\n",
    "\n",
    "\n"
   ]
  },
  {
   "cell_type": "code",
   "execution_count": 9,
   "metadata": {},
   "outputs": [],
   "source": [
    "from darts.tools.plot_darts import *\n",
    "prod0 = m_true0.reservoir.wells[1]\n",
    "prod45 = m_true45.reservoir.wells[1]\n",
    "prod90 = m_true90.reservoir.wells[1]\n"
   ]
  },
  {
   "cell_type": "code",
   "execution_count": 14,
   "metadata": {},
   "outputs": [
    {
     "data": {
      "image/png": "[encoded data removed]",
      "text/plain": [
       "<Figure size 432x288 with 1 Axes>"
      ]
     },
     "metadata": {
      "needs_background": "light"
     },
     "output_type": "display_data"
    }
   ],
   "source": [
    "plt.plot(time_data0['time'],-1*time_data0['P1 : oil rate (m3/day)'])\n",
    "plt.plot(time_data45['time'],-1*time_data45['P1 : oil rate (m3/day)'])\n",
    "plt.plot(time_data90['time'],-1*time_data90['P1 : oil rate (m3/day)'])\n",
    "plt.show()"
   ]
  },
  {
   "cell_type": "code",
   "execution_count": 10,
   "metadata": {},
   "outputs": [
    {
     "data": {
      "image/png": "[encoded data removed]",
      "text/plain": [
       "<Figure size 432x288 with 1 Axes>"
      ]
     },
     "metadata": {
      "needs_background": "light"
     },
     "output_type": "display_data"
    }
   ],
   "source": [
    "plt.plot(time_data0['time'],-1*time_data0['P1 : water rate (m3/day)'])\n",
    "plt.plot(time_data45['time'],-1*time_data45['P1 : water rate (m3/day)'])\n",
    "plt.plot(time_data90['time'],-1*time_data90['P1 : water rate (m3/day)'])\n",
    "plt.show()\n",
    "\n"
   ]
  },
  {
   "cell_type": "code",
   "execution_count": 15,
   "metadata": {},
   "outputs": [
    {
     "data": {
      "image/png": "[encoded data removed]",
      "text/plain": [
       "<Figure size 432x288 with 1 Axes>"
      ]
     },
     "metadata": {
      "needs_background": "light"
     },
     "output_type": "display_data"
    }
   ],
   "source": [
    "start_time =10\n",
    "plt.plot(time_data0['time'][start_time:],time_data0['I1 : water rate (m3/day)'][start_time:])\n",
    "plt.plot(time_data45['time'][start_time:],time_data45['I1 : water rate (m3/day)'][start_time:])\n",
    "plt.plot(time_data90['time'][start_time:],time_data90['I1 : water rate (m3/day)'][start_time:])\n",
    "plt.show()\n"
   ]
  },
  {
   "cell_type": "code",
   "execution_count": 15,
   "metadata": {},
   "outputs": [
    {
     "name": "stderr",
     "output_type": "stream",
     "text": [
      "[NbConvertApp] Converting notebook teste_angleref.ipynb to html\n",
      "[NbConvertApp] Writing 351074 bytes to teste_angleref.html\n"
     ]
    }
   ],
   "source": [
    "!jupyter nbconvert --to html teste_angleref.ipynb"
   ]
  }
 ],
 "metadata": {
  "kernelspec": {
   "display_name": "Python 3.8.3 ('base')",
   "language": "python",
   "name": "python3"
  },
  "language_info": {
   "codemirror_mode": {
    "name": "ipython",
    "version": 3
   },
   "file_extension": ".py",
   "mimetype": "text/x-python",
   "name": "python",
   "nbconvert_exporter": "python",
   "pygments_lexer": "ipython3",
   "version": "3.8.3"
  },
  "orig_nbformat": 4,
  "vscode": {
   "interpreter": {
    "hash": "ad2bdc8ecc057115af97d19610ffacc2b4e99fae6737bb82f5d7fb13d2f2c186"
   }
  }
 },
 "nbformat": 4,
 "nbformat_minor": 2
}
